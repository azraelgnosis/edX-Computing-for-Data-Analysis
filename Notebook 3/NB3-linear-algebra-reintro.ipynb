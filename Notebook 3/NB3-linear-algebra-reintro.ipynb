{
 "cells": [
  {
   "cell_type": "markdown",
   "metadata": {
    "nbgrader": {
     "grade": false,
     "locked": true,
     "solution": false
    }
   },
   "source": [
    "# Re-introduction to Linear Algebra"
   ]
  },
  {
   "cell_type": "markdown",
   "metadata": {
    "nbgrader": {
     "grade": false,
     "locked": true,
     "solution": false
    }
   },
   "source": [
    "One of the prerequisites for this course is _linear algebra_. This notebook is designed to \"re-introduce\" you to the topic. It guides you through some fundamental concepts using (Python) code and code-generated pictures. So, beyond reviewing math we hope it gives you yet-another opportunity to improve your Python code-reading skills.\n",
    "\n",
    "This notebook contains a mix of pencil-and-paper exercises as well as coding \"exercises.\" But for the coding exercises, we have provided solutions. You should read them to see that they make sense, and you might even try erasing them and seeing if you can generate the same (or similar) solutions on your own.\n",
    "\n",
    "> _Aside._ You may be wondering why you need a linear algebra refresher at all. The answer is that linear algebra is, arguably, **the** mathematical and computational foundation for much of modern data analysis and machine learning. Modern computers are also very good at executing linear algebra operations quickly. Therefore, the more of a computation you can cast into a linear algebraic form, the easier it will be to speed up and scale up later on.\n",
    ">\n",
    "> In fact, there are many computations that do not even look like linear algebra at first, but can, in fact, be cast into \"patterns\" that do resemble it. These include database queries and searches in graphs and networks. Some of these ideas appear in Topic 2. Therefore, knowing linear algebra and knowing how it maps to code gives you a framework for doing fast computations more generally. So, even if the topic seems a bit dry at first glance, try to stick with it and you'll earn dividends in the long-run, well beyond this topic and course.\n",
    "\n",
    "## Additional resources...\n",
    "\n",
    "If you need more reminders and examples of some of these ideas, we **highly recommend** the PDF notes from the edX course, Linear Algebra: Foundations to Frontiers (\"LAFF\"), which are available at http://ulaff.net/. It has many examples and explanations, which have borrowed liberally here.\n",
    "$\n",
    "\\newcommand{\\func}[2]{{#1}\\left({#2}\\right)}\n",
    "\\newcommand{\\vecany}[1]{\\left[\\begin{matrix} #1 \\end{matrix}\\right]}\n",
    "\\newcommand{\\vectwo}[2]{\\vecany{{#1} \\\\ {#2}}}\n",
    "\\newcommand{\\vecthree}[3]{\\vecany{{#1} \\\\ {#2} \\\\ {#3}}}\n",
    "\\newcommand{\\vecilong}[3]{\\vecany{{#1} \\\\ \\vdots \\\\ {#2} \\\\ \\vdots \\\\ {#3}}}\n",
    "$"
   ]
  },
  {
   "cell_type": "markdown",
   "metadata": {
    "nbgrader": {
     "grade": false,
     "locked": true,
     "solution": false
    }
   },
   "source": [
    "## Setup for plots (run but mostly ignore)\n",
    "\n",
    "The visualizations in this notebook require a bit of setup code. You don't need to understand this code right now, but as your Python skills evolve, trying to understand how this code works will be good practice."
   ]
  },
  {
   "cell_type": "code",
   "execution_count": 1,
   "metadata": {
    "nbgrader": {
     "grade": false,
     "locked": true,
     "solution": false
    }
   },
   "outputs": [
    {
     "name": "stdout",
     "output_type": "stream",
     "text": [
      "3.6.4 (default, Feb  9 2018, 18:50:54) \n",
      "[GCC 5.4.1 20160904]\n"
     ]
    }
   ],
   "source": [
    "# Just for reference, this prints the currently version of Python\n",
    "import sys\n",
    "print(sys.version)"
   ]
  },
  {
   "cell_type": "code",
   "execution_count": 1,
   "metadata": {
    "nbgrader": {
     "grade": false,
     "locked": true,
     "solution": false
    }
   },
   "outputs": [
    {
     "data": {
      "text/markdown": [
       "$x \\in \\mathcal{S} \\implies y \\in \\mathcal{T}$"
      ],
      "text/plain": [
       "<IPython.core.display.Markdown object>"
      ]
     },
     "metadata": {},
     "output_type": "display_data"
    }
   ],
   "source": [
    "# Code for pretty-printing math notation\n",
    "from IPython.display import display, Math, Latex, Markdown\n",
    "\n",
    "def display_math(str_latex):\n",
    "    display(Markdown('${}$'.format(str_latex)))\n",
    "    \n",
    "# Demo:\n",
    "display_math(r'x \\in \\mathcal{S} \\implies y \\in \\mathcal{T}')"
   ]
  },
  {
   "cell_type": "code",
   "execution_count": 2,
   "metadata": {
    "nbgrader": {
     "grade": false,
     "locked": true,
     "solution": false
    }
   },
   "outputs": [
    {
     "name": "stdout",
     "output_type": "stream",
     "text": [
      "Ready!\n"
     ]
    }
   ],
   "source": [
    "# Code for drawing diagrams involving vectors\n",
    "import matplotlib.pyplot as plt\n",
    "%matplotlib inline\n",
    "\n",
    "DEF_FIGLEN = 4\n",
    "DEF_FIGSIZE = (DEF_FIGLEN, DEF_FIGLEN)\n",
    "\n",
    "def figure(figsize=DEF_FIGSIZE):\n",
    "    return plt.figure(figsize=figsize)\n",
    "\n",
    "def multiplot_figsize(plot_dims, base_figsize=DEF_FIGSIZE):\n",
    "    return tuple([p*x for p, x in zip(plot_dims, base_figsize)])\n",
    "\n",
    "def subplots(plot_dims, base_figsize=DEF_FIGSIZE, sharex='col', sharey='row', **kw_args):\n",
    "    assert len(plot_dims) == 2, \"Must define a 2-D plot grid.\"\n",
    "    multiplot_size = multiplot_figsize(plot_dims, base_figsize)\n",
    "    _, axes = plt.subplots(plot_dims[0], plot_dims[1],\n",
    "                           figsize=multiplot_size[::-1],\n",
    "                           sharex=sharex, sharey=sharey,\n",
    "                           **kw_args)\n",
    "    return axes\n",
    "\n",
    "def new_blank_plot(ax=None, xlim=(-5, 5), ylim=(-5, 5), axis_color='gray', title=''):\n",
    "    if ax is None:\n",
    "        ax = plt.gca()\n",
    "    else:\n",
    "        plt.sca(ax)\n",
    "    ax.axis('equal')\n",
    "    if xlim is not None: ax.set_xlim(xlim[0], xlim[1])\n",
    "    if ylim is not None: ax.set_ylim(ylim[0], ylim[1])\n",
    "    if axis_color is not None:\n",
    "        ax.axhline(color=axis_color)\n",
    "        ax.axvline(color=axis_color)\n",
    "    if title is not None:\n",
    "        ax.set_title(title)\n",
    "    return ax\n",
    "\n",
    "def draw_point2d(p, ax=None, marker='o', markersize=5, **kw_args):\n",
    "    assert len(p) == 2, \"Point must be 2-D.\"\n",
    "    if ax is None: ax = plt.gca()\n",
    "    ax.plot(p[0], p[1], marker=marker, markersize=markersize,\n",
    "            **kw_args);\n",
    "\n",
    "def draw_label2d(p, label, coords=False, ax=None, fontsize=14,\n",
    "                 dp=(0.0, 0.1), horizontalalignment='center', verticalalignment='bottom',\n",
    "                 **kw_args):\n",
    "    assert len(p) == 2, \"Position must be 2-D.\"\n",
    "    if ax is None: ax = plt.gca()\n",
    "    text = '{}'.format(label)\n",
    "    if coords:\n",
    "        text += ' = ({}, {})'.format(p[0], p[1])\n",
    "    ax.text(p[0]+dp[0], p[1]+dp[1], text,\n",
    "            fontsize=fontsize,\n",
    "            horizontalalignment=horizontalalignment,\n",
    "            verticalalignment=verticalalignment,\n",
    "            **kw_args)\n",
    "\n",
    "def draw_line2d(start, end, ax=None, width=1.0, color='black', alpha=1.0, **kw_args):\n",
    "    assert len(start) == 2, \"`start` must be a 2-D point.\"\n",
    "    assert len(end) == 2, \"`end` must be a 2-D point.\"\n",
    "    if ax is None:\n",
    "        ax = plt.gca()\n",
    "    x = [start[0], end[0]]\n",
    "    y = [start[1], end[1]]\n",
    "    ax.plot(x, y, linewidth=width, color=color, alpha=alpha, **kw_args);\n",
    "\n",
    "def draw_vector2d(v, ax=None, origin=(0, 0), width=0.15, color='black', alpha=1.0,\n",
    "                  **kw_args):\n",
    "    assert len(v) == 2, \"Input vector must be two-dimensional.\"\n",
    "    if ax is None:\n",
    "        ax = plt.gca()\n",
    "    ax.arrow(origin[0], origin[1], v[0], v[1],\n",
    "             width=width,\n",
    "             facecolor=color,\n",
    "             edgecolor='white',\n",
    "             alpha=alpha,\n",
    "             length_includes_head=True,\n",
    "             **kw_args);\n",
    "    \n",
    "def draw_vector2d_components(v, y_offset_sign=1, vis_offset=0.05, comp_width=1.5, **kw_args):\n",
    "    assert len(v) == 2, \"Vector `v` must be 2-D.\"\n",
    "    y_offset = y_offset_sign * vis_offset\n",
    "    draw_line2d((0, y_offset), (v[0], y_offset), width=comp_width, **kw_args)\n",
    "    draw_line2d((v[0], y_offset), v, width=comp_width, **kw_args)\n",
    "    \n",
    "def draw_angle(theta_start, theta_end, radius=1, center=(0, 0), ax=None, **kw_args):\n",
    "    from matplotlib.patches import Arc\n",
    "    if ax is None: ax = plt.gca()\n",
    "    arc = Arc(center, center[0]+2*radius, center[1]+2*radius,\n",
    "              theta1=theta_start, theta2=theta_end,\n",
    "              **kw_args)\n",
    "    ax.add_patch(arc)\n",
    "            \n",
    "def draw_angle_label(theta_start, theta_end, label=None, radius=1, center=(0, 0), ax=None, **kw_args):\n",
    "    from math import cos, sin, pi\n",
    "    if ax is None: ax = plt.gca()\n",
    "    if label is not None:\n",
    "        theta_label = (theta_start + theta_end) / 2 / 360 * 2.0 * pi\n",
    "        p = (center[0] + radius*cos(theta_label),\n",
    "             center[1] + radius*sin(theta_label))\n",
    "        ax.text(p[0], p[1], label, **kw_args)\n",
    "\n",
    "print(\"Ready!\")"
   ]
  },
  {
   "cell_type": "markdown",
   "metadata": {
    "nbgrader": {
     "grade": false,
     "locked": true,
     "solution": false
    }
   },
   "source": [
    "## Points in Euclidean geometry\n",
    "\n",
    "First, recall the notion of _$d$-dimensional space_ that obeys Euclidean geometry. The space is an infinite set of points whose positions may be described in terms of $d$ coordinate axes, which are perpendicular to one another. Each axis is associated with real-values that range from $-\\infty$ to $\\infty$. Here is a snapshot of a $d=2$-dimensional space with the usual x- and y-axes intersecting at the origin, $x=0, y=0$."
   ]
  },
  {
   "cell_type": "code",
   "execution_count": 3,
   "metadata": {
    "nbgrader": {
     "grade": false,
     "locked": true,
     "solution": false
    }
   },
   "outputs": [
    {
     "data": {
      "image/png": "[encoded data removed]",
      "text/plain": [
       "<matplotlib.figure.Figure at 0x7fd61c113908>"
      ]
     },
     "metadata": {},
     "output_type": "display_data"
    }
   ],
   "source": [
    "figure()\n",
    "new_blank_plot();"
   ]
  },
  {
   "cell_type": "markdown",
   "metadata": {
    "nbgrader": {
     "grade": false,
     "locked": true,
     "solution": false
    }
   },
   "source": [
    "We will refer to these \"standard\" perpendicular axes as the _canonical axes_ of a $d$-dimensional space."
   ]
  },
  {
   "cell_type": "markdown",
   "metadata": {
    "nbgrader": {
     "grade": false,
     "locked": true,
     "solution": false
    }
   },
   "source": [
    "The position of each point $p$ in this space is a tuple of $d$ real-valued coordinates, $p=(p_0, p_1, \\ldots, p_{d-1})$. Each coordinate $p_i$ is a real number, which in math terms we write by saying $p_i \\in \\mathbb{R}$, where $\\mathbb{R}$ is the set of real numbers. Each $p_i$ measures the extent of $p$ along the $i$-th axis. In 2-D, the x-coordinate of $p$ is $p_0$ and the y-coordinate is $p_1$.\n",
    "\n",
    "> _Note._ We are using a convention in which the axes and coordinates are numbered starting at 0, in part for consistency with how Python numbers the elements of its tuples, lists, and other collections.\n",
    "\n",
    "Here is an example of three points, $a$, $b$, and $c$, in a 2-D Euclidean space. The code uses the natural data type for representing the points, namely, Python's built-in 2-tuple (i.e., pair) data type."
   ]
  },
  {
   "cell_type": "code",
   "execution_count": 4,
   "metadata": {
    "nbgrader": {
     "grade": false,
     "locked": true,
     "solution": false
    }
   },
   "outputs": [
    {
     "data": {
      "image/png": "[encoded data removed]",
      "text/plain": [
       "<matplotlib.figure.Figure at 0x7fd6049ae630>"
      ]
     },
     "metadata": {},
     "output_type": "display_data"
    }
   ],
   "source": [
    "# Define three points\n",
    "a = (-2, 2)\n",
    "b = (3.5, 1)\n",
    "c = (0.5, -3)\n",
    "\n",
    "# Draw a figure containing these points\n",
    "figure()\n",
    "new_blank_plot()\n",
    "draw_point2d(a, color='blue'); draw_label2d(a, 'a', color='blue', coords=True)\n",
    "draw_point2d(b, color='red'); draw_label2d(b, 'b', color='red', coords=True)\n",
    "draw_point2d(c, color='green'); draw_label2d(c, 'c', color='green', coords=True)"
   ]
  },
  {
   "cell_type": "markdown",
   "metadata": {
    "nbgrader": {
     "grade": false,
     "locked": true,
     "solution": false
    }
   },
   "source": [
    "**Exercise.** We will assume you are familiar with the basic geometry of Euclidean spaces. For example, suppose you connect the points into a triangle whose sides are $\\overline{ab}$, $\\overline{bc}$, and $\\overline{ac}$. What are the lengths of the triangle's sides? What are its angles?"
   ]
  },
  {
   "cell_type": "markdown",
   "metadata": {
    "nbgrader": {
     "grade": false,
     "locked": true,
     "solution": false
    }
   },
   "source": [
    "## Vectors (vs. points)\n",
    "\n",
    "In linear algebra, the first concept you need is that of a _vector_. A vector will look like a point but is, technically, a little bit different."
   ]
  },
  {
   "cell_type": "markdown",
   "metadata": {
    "nbgrader": {
     "grade": false,
     "locked": true,
     "solution": false
    }
   },
   "source": [
    "**Definition: vectors.** A $d$-dimensional vector is an \"arrow\" in $d$-dimensional space. It has a _length_ and a _direction_. It does *not* have a position! Having said that, we will represent a vector by its length along each of the canonical axes, albeit using the following slightly different notation."
   ]
  },
  {
   "cell_type": "markdown",
   "metadata": {
    "nbgrader": {
     "grade": false,
     "locked": true,
     "solution": false
    }
   },
   "source": [
    "In particular, we will write a $d$-dimensional vector $v$ as a _column vector_,\n",
    "\n",
    "$$v \\equiv \\left[\\begin{matrix} v_0 \\\\ v_1 \\\\ \\vdots \\\\ v_{d-1} \\end{matrix}\\right],$$\n",
    "\n",
    "where each entry $v_i$ is the length of the vector with respect to the $i$-th axis. We will also refer to the entries as _elements_ or _components_ of $v$."
   ]
  },
  {
   "cell_type": "markdown",
   "metadata": {
    "nbgrader": {
     "grade": false,
     "locked": true,
     "solution": false
    }
   },
   "source": [
    "In our class, we are always interested in spaces in which the possible values of $v_i$ are real numbers. Therefore, when we want to say a mathematical object $v$ is a $d$-dimensional vector, we will sometimes write that using the shorthand, $v \\in \\mathbb{R}^d$, meaning $v$ is an element of the set of all possible $d$-dimensional vectors with real-valued components.\n",
    "\n",
    "> _Aside 1._ We usually use the term \"coordinates\" when referring to the components of a point. And while a vector does not have a position, making it not a point, we will nevertheless \"abuse\" terminology sometimes and refer to the \"coordinates\" of a vector when we mean \"components\" or \"elements.\"\n",
    ">\n",
    "> _Aside 1._ The term \"column\" suggests there is a notion of a \"row\" vector. We'll discuss that later."
   ]
  },
  {
   "cell_type": "markdown",
   "metadata": {
    "nbgrader": {
     "grade": false,
     "locked": true,
     "solution": false
    }
   },
   "source": [
    "Before discussing this representation of \"length\" and \"direction\" further, let's encode it in Python."
   ]
  },
  {
   "cell_type": "markdown",
   "metadata": {
    "nbgrader": {
     "grade": false,
     "locked": true,
     "solution": false
    }
   },
   "source": [
    "**A code representation.** As we did with points, let's again use tuples to represent the elements of a vector. Below, we define a Python function, `vector()`, whose arguments are, say, $d$ coordinates; it returns a tuple that holds these elements. In this $d=2$ example, suppose a vector $v$ has a length of $v_0=1.0$ along the $0$-th coordinate (e.g., x-axis) and $v_1=2.0$ in the $1$st coordinate (e.g., y-axis):"
   ]
  },
  {
   "cell_type": "code",
   "execution_count": 5,
   "metadata": {
    "nbgrader": {
     "grade": false,
     "locked": true,
     "solution": false
    }
   },
   "outputs": [
    {
     "name": "stdout",
     "output_type": "stream",
     "text": [
      "v = (1.0, 2.0)    <==  2-dimensional\n"
     ]
    }
   ],
   "source": [
    "def vector(*elems, dim=None):\n",
    "    \"\"\"\n",
    "    Exercise: What does this function do?\n",
    "    \"\"\"\n",
    "    if dim is not None:\n",
    "        if len(elems) > 0:\n",
    "            assert dim == len(elems), \"Number of supplied elements differs from the requested dimension.\"\n",
    "        else: # No supplied elements\n",
    "            elems = [0.0] * dim\n",
    "    return tuple(elems)\n",
    "\n",
    "def dim(v):\n",
    "    \"\"\"Returns the dimensionality of the vector `v`\"\"\"\n",
    "    return len(v)\n",
    "\n",
    "v = vector(1.0, 2.0)\n",
    "d = dim(v)\n",
    "print('v = {}    <==  {}-dimensional'.format(v, d))"
   ]
  },
  {
   "cell_type": "code",
   "execution_count": 6,
   "metadata": {
    "nbgrader": {
     "grade": false,
     "locked": true,
     "solution": false
    }
   },
   "outputs": [
    {
     "name": "stdout",
     "output_type": "stream",
     "text": [
      "z3 = (0.0, 0.0, 0.0)    <== 3-dimensional\n"
     ]
    }
   ],
   "source": [
    "# Another example: Creates a zero-vector of dimension 3\n",
    "z3 = vector(dim=3)\n",
    "print('z3 = {}    <== {}-dimensional'.format(z3, dim(z3)))"
   ]
  },
  {
   "cell_type": "markdown",
   "metadata": {},
   "source": [
    "**Aside: Pretty-printing using LaTeX.** Recall the abstract mathematical notation of a vector's elements as a vertical stack. Using the standard Python `print()` renders a vector as a row-oriented tuple. However, [Jupyter notebooks also support LaTeX notation ](https://jupyter-notebook.readthedocs.io/en/stable/notebook.html) for rendering mathematical formulas in a \"pretty\" way. This feature means we can write Python code that generates LaTeX and renders it in the notebook!\n",
    "\n",
    "You don't need to understand too much about how this process works. However, we mention it because you will see us define helper functions to help pretty-print math throughout this notebook."
   ]
  },
  {
   "cell_type": "code",
   "execution_count": 7,
   "metadata": {
    "nbgrader": {
     "grade": false,
     "locked": true,
     "solution": false
    }
   },
   "outputs": [
    {
     "name": "stdout",
     "output_type": "stream",
     "text": [
      "Standard Python output: (1.0, 2.0)\n",
      "\n",
      "'Mathy' output:\n"
     ]
    },
    {
     "data": {
      "text/markdown": [
       "$v \\equiv \\left[ \\begin{matrix} 1.0 \\\\ 2.0 \\end{matrix}\\right]$"
      ],
      "text/plain": [
       "<IPython.core.display.Markdown object>"
      ]
     },
     "metadata": {},
     "output_type": "display_data"
    }
   ],
   "source": [
    "def latex_vector(v, transpose=False):\n",
    "    \"\"\"Returns a LaTeX string representation of a vector\"\"\"\n",
    "    s = r'''\\left[ \\begin{matrix} '''\n",
    "    sep = r'''\\\\''' if not transpose else r''', &'''\n",
    "    s += (r' {} ').format(sep).join([str(vi) for vi in v])\n",
    "    s += r''' \\end{matrix}\\right]'''\n",
    "    return s\n",
    "\n",
    "# Demo: Pretty-print `v` from before\n",
    "print(\"Standard Python output:\", v)\n",
    "print(\"\\n'Mathy' output:\")\n",
    "v_latex = latex_vector(v)\n",
    "display_math('v \\equiv ' + v_latex)"
   ]
  },
  {
   "cell_type": "markdown",
   "metadata": {
    "nbgrader": {
     "grade": false,
     "locked": true,
     "solution": false
    }
   },
   "source": [
    "Okay, back to math...\n",
    "\n",
    "**Definition: direction of the vector.** To determine a vector's direction, start at the origin, and then take a step of size $v_i$ along each axis $i$. We say the vector points from the origin toward the ending point. That's its direction. We'll draw a picture momentarily to make this clearer.\n",
    "\n",
    "**Definition: length of a vector.** The length of the vector is the straight-line (Euclidean) distance between the origin and the endpoint, if the vector is placed at the origin. With respect to the coordinates, this distance is given by the familiar formula,\n",
    "\n",
    "$$\\sqrt{v_0^2 + v_1^2 + \\cdots + v_{d-1}^2},$$\n",
    "\n",
    "that is, the square-root of the sum of squared lengths along each axis."
   ]
  },
  {
   "cell_type": "markdown",
   "metadata": {
    "nbgrader": {
     "grade": false,
     "locked": true,
     "solution": false
    }
   },
   "source": [
    "Here is a Python function to return this length."
   ]
  },
  {
   "cell_type": "code",
   "execution_count": 8,
   "metadata": {
    "nbgrader": {
     "grade": false,
     "locked": true,
     "solution": false
    }
   },
   "outputs": [
    {
     "name": "stdout",
     "output_type": "stream",
     "text": [
      "The length of v = (1.0, 2.0) is about 2.23606797749979.\n"
     ]
    }
   ],
   "source": [
    "def length(v):\n",
    "    from math import sqrt\n",
    "    return sqrt(sum([vi*vi for vi in v]))\n",
    "\n",
    "print(\"The length of v = {} is about {}.\".format(v, length(v)))"
   ]
  },
  {
   "cell_type": "markdown",
   "metadata": {
    "nbgrader": {
     "grade": false,
     "locked": true,
     "solution": false
    }
   },
   "source": [
    "**Pictures!** Before things get too abstract, let's give the idea of a vector a visual footing."
   ]
  },
  {
   "cell_type": "code",
   "execution_count": 9,
   "metadata": {
    "nbgrader": {
     "grade": false,
     "locked": true,
     "solution": false
    }
   },
   "outputs": [
    {
     "data": {
      "image/png": "[encoded data removed]",
      "text/plain": [
       "<matplotlib.figure.Figure at 0x7fd60493ef60>"
      ]
     },
     "metadata": {},
     "output_type": "display_data"
    }
   ],
   "source": [
    "figure()\n",
    "new_blank_plot(title='Vector v = {}'.format(str(v)))\n",
    "draw_vector2d(v, color='blue')"
   ]
  },
  {
   "cell_type": "markdown",
   "metadata": {
    "nbgrader": {
     "grade": false,
     "locked": true,
     "solution": false
    }
   },
   "source": [
    "**Remember: Vectors do not have a position!** In the picture above, we drew the vector beginning at the origin. However, remember that a vector technically does not have a position. That is, if we do \"move\" it to some other point of the space, it is the _same_ vector. So in the following picture, the blue vectors have the same representation, that is, identical components."
   ]
  },
  {
   "cell_type": "code",
   "execution_count": 10,
   "metadata": {
    "nbgrader": {
     "grade": false,
     "locked": true,
     "solution": false
    }
   },
   "outputs": [
    {
     "data": {
      "image/png": "[encoded data removed]",
      "text/plain": [
       "<matplotlib.figure.Figure at 0x7fd5ecd4b358>"
      ]
     },
     "metadata": {},
     "output_type": "display_data"
    }
   ],
   "source": [
    "def random_vector(dim=2, v_min=-1, v_max=1):\n",
    "    \"\"\"Returns a random vector whose components lie in (`v_min`, `v_max`).\"\"\"\n",
    "    from random import uniform\n",
    "    v = vector(*[uniform(v_min, v_max) for _ in range(dim)])\n",
    "    return v\n",
    "\n",
    "def flip_signs_randomly(v):\n",
    "    from random import choice\n",
    "    return [choice([-1, 1])*vi for vi in v]\n",
    "\n",
    "# Draw `v` at the origin\n",
    "subfigs = subplots((1, 2))\n",
    "new_blank_plot(subfigs[0], title='v, placed at the origin')\n",
    "draw_vector2d(v, color='blue')\n",
    "\n",
    "# Draw `v` somewhere else\n",
    "dv = flip_signs_randomly(random_vector(dim=dim(v), v_min=1, v_max=3))\n",
    "new_blank_plot(subfigs[1], title='v, placed at ({:.1f}, {:.1f})'.format(dv[0], dv[1]))\n",
    "draw_vector2d(v, color='blue', origin=dv)"
   ]
  },
  {
   "cell_type": "markdown",
   "metadata": {
    "nbgrader": {
     "grade": false,
     "locked": true,
     "solution": false
    }
   },
   "source": [
    "**Definition: $p$-norms.** We defined the length using the familiar Euclidean notion of distance. However, there are actually many other kinds of distance. The $p$-norm of a vector $v$ is one such generalized idea of a distance:\n",
    "\n",
    "$$\\|v\\|_p \\equiv \\left( \\sum_{i=0}^{d-1} |v_i|^p \\right)^\\frac{1}{p}.$$\n",
    "\n",
    "The usual Euclidean distance is the same as $p=2$, i.e., the \"two-norm.\" There are some other commonly used norms.\n",
    "\n",
    "* $p=1$: The one-norm, which is the same as the \"Manhattan distance.\" In machine learning applications, judicious use of this norm often leads to \"sparse\" models, that is, models where less important parameters are automatically driven to zero.\n",
    "* $p=\\infty$: The infinity-norm, also known as the \"max norm.\" It is the largest absolute entry, that is, $\\|v\\|_\\infty = \\max_{i} \\|v_i\\|$."
   ]
  },
  {
   "cell_type": "markdown",
   "metadata": {
    "nbgrader": {
     "grade": false,
     "locked": true,
     "solution": false
    }
   },
   "source": [
    "Here is some code that implements the calculation of a norm."
   ]
  },
  {
   "cell_type": "code",
   "execution_count": 11,
   "metadata": {
    "nbgrader": {
     "grade": false,
     "locked": true,
     "solution": false
    }
   },
   "outputs": [
    {
     "data": {
      "text/markdown": [
       "$\\left\\| \\left[ \\begin{matrix} 1.0 \\\\ 2.0 \\end{matrix}\\right] \\right\\|_1 \\approx 3.0$"
      ],
      "text/plain": [
       "<IPython.core.display.Markdown object>"
      ]
     },
     "metadata": {},
     "output_type": "display_data"
    },
    {
     "data": {
      "text/markdown": [
       "$\\left\\| \\left[ \\begin{matrix} 1.0 \\\\ 2.0 \\end{matrix}\\right] \\right\\|_2 \\approx 2.23606797749979$"
      ],
      "text/plain": [
       "<IPython.core.display.Markdown object>"
      ]
     },
     "metadata": {},
     "output_type": "display_data"
    },
    {
     "data": {
      "text/markdown": [
       "$\\left\\| \\left[ \\begin{matrix} 1.0 \\\\ 2.0 \\end{matrix}\\right] \\right\\|_\\infty \\approx 2.0$"
      ],
      "text/plain": [
       "<IPython.core.display.Markdown object>"
      ]
     },
     "metadata": {},
     "output_type": "display_data"
    }
   ],
   "source": [
    "def norm(v, p=2):\n",
    "    assert p > 0\n",
    "    from math import sqrt, inf, pow\n",
    "    if p == 1: return sum([abs(vi) for vi in v])\n",
    "    if p == 2: return sqrt(sum([vi*vi for vi in v]))\n",
    "    if p == inf: return max([abs(vi) for vi in v])\n",
    "    return pow(sum([pow(abs(vi), p) for vi in v]), 1.0/p)\n",
    "\n",
    "def latex_norm(x, p=2):\n",
    "    from math import inf\n",
    "    if p == inf: p = r'\\infty'\n",
    "    s = r'\\left\\| '\n",
    "    s += x\n",
    "    s += r' \\right\\|_{}'.format(p)\n",
    "    return s\n",
    "\n",
    "import math\n",
    "for p in [1, 2, math.inf]:\n",
    "    v_pnorm_latex = latex_norm(v_latex, p)\n",
    "    display_math(r'{} \\approx {}'.format(v_pnorm_latex, norm(v, p)))"
   ]
  },
  {
   "cell_type": "markdown",
   "metadata": {
    "nbgrader": {
     "grade": false,
     "locked": true,
     "solution": false
    }
   },
   "source": [
    "**Exercise.** Convince yourself that the 1-norm, 2-norm, and $\\infty$-norm satisfy the following properties.\n",
    "\n",
    "- _Triangle inequality._ $\\|v + w\\| \\leq \\|v\\| + \\|w\\|$.\n",
    "- _Absolute homogeneity._ Let $\\sigma$ be a scalar value. Then $\\|\\sigma v\\| = |\\sigma| \\cdot \\|v\\|.$"
   ]
  },
  {
   "cell_type": "markdown",
   "metadata": {
    "nbgrader": {
     "grade": false,
     "locked": true,
     "solution": false
    }
   },
   "source": [
    "**Comparing norms.** In the previous example, the one-norm is the largest value and the infinity-norm is the smallest. In fact, this holds in general and it is possible to show the following:\n",
    "\n",
    "$$\\|v\\|_\\infty \\leq \\|v\\|_2 \\leq \\|v\\|_1 \\leq \\sqrt{d} \\|v\\|_2 \\leq d \\|v\\|_\\infty.$$\n",
    "\n",
    "Feel free either to prove it, or check it experimentally by running the following code."
   ]
  },
  {
   "cell_type": "code",
   "execution_count": 12,
   "metadata": {
    "nbgrader": {
     "grade": false,
     "locked": true,
     "solution": false
    }
   },
   "outputs": [
    {
     "data": {
      "image/png": "[encoded data removed]",
      "text/plain": [
       "<matplotlib.figure.Figure at 0x7fd5ecd12eb8>"
      ]
     },
     "metadata": {},
     "output_type": "display_data"
    }
   ],
   "source": [
    "from math import inf, sqrt\n",
    "\n",
    "def normalize_vector(v, p=2):\n",
    "    \"\"\"Returns a rescaled version of the input vector `v`.\"\"\"\n",
    "    v_norm = norm(v, p=p)\n",
    "    return vector(*[vi/v_norm for vi in v])\n",
    "\n",
    "# Generate random points whose 2-norm equals 1. Then\n",
    "# compute the 1-norm and inf-norm of these points.\n",
    "norms_1 = [None] * 250\n",
    "norms_inf = [None] * 250\n",
    "for k in range(len(norms_1)):\n",
    "    v = normalize_vector(random_vector())\n",
    "    norms_1[k] = norm(v, p=1)\n",
    "    norms_inf[k] = norm(v, p=inf)\n",
    "    \n",
    "figure(figsize=(6, 6))\n",
    "new_blank_plot(xlim=None, ylim=None, axis_color=None, title='$\\|v\\|_2 = 1$')\n",
    "plt.plot(norms_1, norms_inf, marker='o', markersize=2, linestyle='none')\n",
    "plt.xlabel('$\\|v\\|_1$', fontsize=18);\n",
    "plt.ylabel('$\\|v\\|_\\infty$', fontsize=18);\n",
    "plt.hlines(y=1/sqrt(2), xmin=1, xmax=sqrt(2), linestyle=':')\n",
    "plt.vlines(x=sqrt(2), ymin=1/sqrt(2), ymax=1, linestyle=':')\n",
    "plt.axis('square');"
   ]
  },
  {
   "cell_type": "markdown",
   "metadata": {
    "nbgrader": {
     "grade": false,
     "locked": true,
     "solution": false
    }
   },
   "source": [
    "**Exercise.** Consider _all_ the 2-D vectors whose $p$-norm equals 1. Place all the vectors at the origin, and imagine their endpoints. What shapes do the endpoints sketch out, for $p=1$, $p=2$, and $p=\\infty$?\n",
    "\n",
    "> _Hint._ Start by considering all the 2-D points whose two-norm, or Euclidean distance, equals 1. Convince yourself that their endpoints from the origin would all lie on a circle of radius 1. What shapes will $p=1$ and $p=\\infty$ sketch out?\n",
    "\n",
    "When you have an answer, check it by running the code below. It performs an experiment where, for each value of $p \\in \\{1, 2, \\infty\\}$, it generates a random point $v$, normalizes the coordinates of the point by $\\|v\\|_p$ so that $v / \\|v\\|_p = 1$, and then plots the result."
   ]
  },
  {
   "cell_type": "code",
   "execution_count": 13,
   "metadata": {
    "nbgrader": {
     "grade": false,
     "locked": true,
     "solution": false
    }
   },
   "outputs": [
    {
     "name": "stdout",
     "output_type": "stream",
     "text": [
      "Points whose 1-norm equals 1 are shown in blue.\n",
      "Points whose 2-norm equals 1 are shown in green.\n",
      "Points whose inf-norm equals 1 are shown in red.\n"
     ]
    },
    {
     "data": {
      "image/png": "[encoded data removed]",
      "text/plain": [
       "<matplotlib.figure.Figure at 0x7fd5ecc2fba8>"
      ]
     },
     "metadata": {},
     "output_type": "display_data"
    }
   ],
   "source": [
    "from math import inf\n",
    "\n",
    "figure(figsize=(6, 6))\n",
    "new_blank_plot(xlim=(-1.25, 1.25), ylim=(-1.25, 1.25))\n",
    "\n",
    "for p, color in zip([1, 2, inf], ['blue', 'green', 'red']):\n",
    "    print(\"Points whose {}-norm equals 1 are shown in {}.\".format(p, color))\n",
    "    for _ in range(250):\n",
    "        v = normalize_vector(random_vector(), p=p)\n",
    "        # The `p`-norm of `v` is now equal to 1; plot `v`.\n",
    "        draw_point2d(v, color=color)"
   ]
  },
  {
   "cell_type": "markdown",
   "metadata": {
    "nbgrader": {
     "grade": false,
     "locked": true,
     "solution": false
    }
   },
   "source": [
    "You should see that the norms are identical for $\\left[\\begin{matrix} \\pm 1.0 \\\\ 0 \\end{matrix}\\right]$ and $\\left[\\begin{matrix} 0 \\\\ \\pm 1.0 \\end{matrix}\\right]$, and everywhere else, $\\|v\\|_1 < \\|v\\|_2 < \\|v\\|_\\infty$. "
   ]
  },
  {
   "cell_type": "markdown",
   "metadata": {
    "nbgrader": {
     "grade": false,
     "locked": true,
     "solution": false
    }
   },
   "source": [
    "## Basic operations: scaling, addition, and subtraction\n",
    "\n",
    "The most elementary operations on vectors involve changing their lengths (\"scaling\" them), adding them, and subtracting them.\n",
    "\n",
    "Let's start with scaling."
   ]
  },
  {
   "cell_type": "markdown",
   "metadata": {
    "nbgrader": {
     "grade": false,
     "locked": true,
     "solution": false
    }
   },
   "source": [
    "**Operation: Scaling a vector.** Given a vector $v$, _scaling_ it by a scalar value $\\sigma$ simply multiplies every element of the vector by $\\alpha$.\n",
    "\n",
    "$$\\sigma v = \\sigma \\cdot \\left[\\begin{matrix} v_0 \\\\ v_1 \\\\ \\vdots \\\\ v_{d-1} \\end{matrix}\\right] = \\left[\\begin{matrix} \\sigma v_0 \\\\ \\sigma v_1 \\\\ \\vdots \\\\ \\sigma v_{d-1} \\end{matrix}\\right].$$"
   ]
  },
  {
   "cell_type": "markdown",
   "metadata": {
    "nbgrader": {
     "grade": false,
     "locked": true,
     "solution": false
    }
   },
   "source": [
    "Here is a picture of the scaling operation."
   ]
  },
  {
   "cell_type": "code",
   "execution_count": 14,
   "metadata": {
    "nbgrader": {
     "grade": false,
     "locked": true,
     "solution": false
    }
   },
   "outputs": [
    {
     "data": {
      "text/markdown": [
       "$(\\sigma=0.75) \\left[ \\begin{matrix} 3.0 \\\\ 2.0 \\end{matrix}\\right] = \\left[ \\begin{matrix} 2.25 \\\\ 1.5 \\end{matrix}\\right]$"
      ],
      "text/plain": [
       "<IPython.core.display.Markdown object>"
      ]
     },
     "metadata": {},
     "output_type": "display_data"
    },
    {
     "data": {
      "image/png": "[encoded data removed]",
      "text/plain": [
       "<matplotlib.figure.Figure at 0x7fd5ec662b38>"
      ]
     },
     "metadata": {},
     "output_type": "display_data"
    }
   ],
   "source": [
    "def scale(v, sigma):\n",
    "    return tuple([sigma*vi for vi in v])\n",
    "\n",
    "va = vector(3.0, 2.0)\n",
    "sigma = 0.75\n",
    "va_scaled = scale(va, sigma)\n",
    "\n",
    "va_latex = latex_vector(va)\n",
    "va_scaled_latex = latex_vector(va_scaled)\n",
    "display_math(r'''(\\sigma={}) {} = {}'''.format(sigma, va_latex, va_scaled_latex))\n",
    "\n",
    "axes = subplots((1, 2))\n",
    "new_blank_plot(axes[0], xlim=(-1, 3.25), ylim=(-1, 3.25), title='blue')\n",
    "draw_vector2d(va, color='blue')\n",
    "\n",
    "new_blank_plot(axes[1], xlim=(-1, 3.25), ylim=(-1, 3.25), title='alpha * blue')\n",
    "draw_vector2d(va_scaled, color='blue')"
   ]
  },
  {
   "cell_type": "markdown",
   "metadata": {
    "nbgrader": {
     "grade": false,
     "locked": true,
     "solution": false
    }
   },
   "source": [
    "**Operation: Vector addition.** Adding two vectors $v$ and $w$ consists of matching and summing component-by-component, also referred to as _elementwise addition_:\n",
    "\n",
    "$$\n",
    "v + w \\equiv \\left[\\begin{matrix} v_0 \\\\ \\vdots \\\\ v_{d-1} \\end{matrix}\\right] + \\left[\\begin{matrix} w_0 \\\\ \\vdots \\\\ w_{d-1} \\end{matrix}\\right] = \\left[\\begin{matrix} v_0 + w_0 \\\\ \\vdots \\\\ v_{d-1} + w_{d-1} \\end{matrix}\\right].\n",
    "$$\n",
    "\n",
    "Geometrically, the act of adding $v$ and $w$ is the same as connecting the end of $v$ to the start of $w$, as illustrated by the following code and picture."
   ]
  },
  {
   "cell_type": "code",
   "execution_count": 15,
   "metadata": {
    "nbgrader": {
     "grade": false,
     "locked": true,
     "solution": false
    }
   },
   "outputs": [
    {
     "data": {
      "text/markdown": [
       "$\\left[ \\begin{matrix} 3.0 \\\\ 2.0 \\end{matrix}\\right] + \\left[ \\begin{matrix} -1.5 \\\\ 1.0 \\end{matrix}\\right] = \\left[ \\begin{matrix} 1.5 \\\\ 3.0 \\end{matrix}\\right]$"
      ],
      "text/plain": [
       "<IPython.core.display.Markdown object>"
      ]
     },
     "metadata": {},
     "output_type": "display_data"
    }
   ],
   "source": [
    "def add(v, w):\n",
    "    assert len(v) == len(w), \"Vectors must have the same length.\"\n",
    "    return tuple([vi+wi for vi, wi in zip(v, w)])\n",
    "\n",
    "vb = vector(-1.5, 1.0)\n",
    "vc = add(va, vb)\n",
    "\n",
    "vb_latex = latex_vector(vb)\n",
    "vc_latex = latex_vector(vc)\n",
    "display_math('{} + {} = {}'.format(va_latex, vb_latex, vc_latex))"
   ]
  },
  {
   "cell_type": "code",
   "execution_count": 16,
   "metadata": {
    "nbgrader": {
     "grade": false,
     "locked": true,
     "solution": false
    },
    "scrolled": true
   },
   "outputs": [
    {
     "data": {
      "image/png": "[encoded data removed]",
      "text/plain": [
       "<matplotlib.figure.Figure at 0x7fd5ec50ceb8>"
      ]
     },
     "metadata": {},
     "output_type": "display_data"
    }
   ],
   "source": [
    "axes = subplots((1, 3))\n",
    "new_blank_plot(ax=axes[0], title='blue, red');\n",
    "draw_vector2d(va, color='blue')\n",
    "draw_vector2d(vb, color='red')\n",
    "\n",
    "new_blank_plot(ax=axes[1], title='black = blue + red');\n",
    "draw_vector2d(va, color='blue')\n",
    "draw_vector2d(vb, origin=va, color='red', alpha=0.5)\n",
    "draw_vector2d(vc)\n",
    "\n",
    "new_blank_plot(ax=axes[2], title='black = red + blue');\n",
    "draw_vector2d(vb, color='red', alpha=0.5)\n",
    "draw_vector2d(va, origin=vb, color='blue', alpha=0.5)\n",
    "draw_vector2d(vc)"
   ]
  },
  {
   "cell_type": "markdown",
   "metadata": {
    "nbgrader": {
     "grade": false,
     "locked": true,
     "solution": false
    }
   },
   "source": [
    "In the picture above, there are two vectors, \"blue\" and \"red\" (left subplot). Adding the red vector to the blue vector (\"blue + red\") is geometrically equivalent to attaching the start of the red vector to the end of the blue vector (middle subplot). Moreover, since scalar addition is symmetric ($a + b = b + a$), so, too, is vector addition (right subplot).\n",
    "\n",
    "> _Aside._ Observe that our visualizations \"exploit\" the fact that vectors only have lengths and directions, not positions, so that vector addition becomes a symmetric operation."
   ]
  },
  {
   "cell_type": "markdown",
   "metadata": {
    "nbgrader": {
     "grade": false,
     "locked": true,
     "solution": false
    }
   },
   "source": [
    "**Negation and subtraction.** Subtracting two vectors is also done elementwise. Alternatively, one may view $v - w$ as $v + (-w)$, that is, first scaling $w$ by -1 and then adding it to $v$, which is what the code below implements."
   ]
  },
  {
   "cell_type": "code",
   "execution_count": 17,
   "metadata": {
    "nbgrader": {
     "grade": false,
     "locked": true,
     "solution": false
    }
   },
   "outputs": [
    {
     "data": {
      "text/markdown": [
       "$\\left[ \\begin{matrix} 3.0 \\\\ 2.0 \\end{matrix}\\right] + \\left[ \\begin{matrix} -1.5 \\\\ 1.0 \\end{matrix}\\right] = \\left[ \\begin{matrix} 4.5 \\\\ 1.0 \\end{matrix}\\right]$"
      ],
      "text/plain": [
       "<IPython.core.display.Markdown object>"
      ]
     },
     "metadata": {},
     "output_type": "display_data"
    },
    {
     "data": {
      "image/png": "[encoded data removed]",
      "text/plain": [
       "<matplotlib.figure.Figure at 0x7fd5ec432978>"
      ]
     },
     "metadata": {},
     "output_type": "display_data"
    }
   ],
   "source": [
    "def neg(v):\n",
    "    return tuple([-vi for vi in v])\n",
    "\n",
    "def sub(v, w):\n",
    "    return add(v, neg(w))\n",
    "\n",
    "vd = sub(va, vb)\n",
    "\n",
    "vd_latex = latex_vector(vd)\n",
    "display_math('{} + {} = {}'.format(va_latex, vb_latex, vd_latex))\n",
    "\n",
    "axes = subplots((1, 2))\n",
    "new_blank_plot(ax=axes[0], title='blue, green');\n",
    "draw_vector2d(va, color='blue')\n",
    "draw_vector2d(vb, color='green')\n",
    "\n",
    "new_blank_plot(ax=axes[1], title='black = blue - green');\n",
    "draw_vector2d(va, color='blue')\n",
    "draw_vector2d(neg(vb), origin=va, color='green', alpha=0.5)\n",
    "draw_vector2d(vd)"
   ]
  },
  {
   "cell_type": "markdown",
   "metadata": {
    "nbgrader": {
     "grade": false,
     "locked": true,
     "solution": false
    }
   },
   "source": [
    "As the visualization indicates, scaling by -1 makes the vector point in the opposite direction."
   ]
  },
  {
   "cell_type": "markdown",
   "metadata": {
    "nbgrader": {
     "grade": false,
     "locked": true,
     "solution": false
    }
   },
   "source": [
    "Lastly, observe that scaling and addition––e.g., $\\sigma v + w$––combine as expected."
   ]
  },
  {
   "cell_type": "code",
   "execution_count": 18,
   "metadata": {
    "nbgrader": {
     "grade": false,
     "locked": true,
     "solution": false
    },
    "scrolled": true
   },
   "outputs": [
    {
     "data": {
      "text/markdown": [
       "$0.75 \\left[ \\begin{matrix} 3.0 \\\\ 2.0 \\end{matrix}\\right] + \\left[ \\begin{matrix} -1.5 \\\\ 1.0 \\end{matrix}\\right] = \\left[ \\begin{matrix} 0.75 \\\\ 2.5 \\end{matrix}\\right]$"
      ],
      "text/plain": [
       "<IPython.core.display.Markdown object>"
      ]
     },
     "metadata": {},
     "output_type": "display_data"
    },
    {
     "data": {
      "image/png": "[encoded data removed]",
      "text/plain": [
       "<matplotlib.figure.Figure at 0x7fd5ec309390>"
      ]
     },
     "metadata": {},
     "output_type": "display_data"
    }
   ],
   "source": [
    "ve = add(va_scaled, vb)\n",
    "\n",
    "ve_latex = latex_vector(ve)\n",
    "display_math(r'''{} {} + {} = {}'''.format(sigma, va_latex, vb_latex, ve_latex))\n",
    "\n",
    "axes = subplots((1, 3))\n",
    "new_blank_plot(axes[0], title='blue, red')\n",
    "draw_vector2d(va, color='blue')\n",
    "draw_vector2d(vb, color='red')\n",
    "\n",
    "new_blank_plot(axes[1], title='sigma * blue')\n",
    "draw_vector2d(va_scaled, color='blue', alpha=0.5)\n",
    "\n",
    "new_blank_plot(axes[2], title='black = sigma*blue + red')\n",
    "draw_vector2d(va_scaled, color='blue', alpha=0.5)\n",
    "draw_vector2d(vb, origin=va_scaled, color='red', alpha=0.5)\n",
    "draw_vector2d(ve)"
   ]
  },
  {
   "cell_type": "markdown",
   "metadata": {
    "nbgrader": {
     "grade": false,
     "locked": true,
     "solution": false
    }
   },
   "source": [
    "## Dot (or \"inner\") products\n",
    "\n",
    "Another critically important operation on vectors is the _dot product_.\n",
    "\n",
    "**Definition.** The _dot product_ (or _inner product_) between two $d$-dimensional vectors, $u$ and $w$, will be denoted by $\\langle u, w \\rangle$ and defined as follows:\n",
    "\n",
    "$$\\langle u, w \\rangle \\ \\equiv \\ u_0 w_0 + \\cdots + u_{d-1} w_{d-1} \\ = \\  \\sum_{i=0}^{d-1} u_i w_i \\ .$$\n",
    "\n",
    "That is, take $u$ and $w$, compute their elementwise products, and then sum these products.\n",
    "\n",
    "**Observation.** The result of a dot product is a single number, i.e., a scalar."
   ]
  },
  {
   "cell_type": "markdown",
   "metadata": {
    "nbgrader": {
     "grade": false,
     "locked": true,
     "solution": false
    }
   },
   "source": [
    "Here is a Python implementation, followed by an example."
   ]
  },
  {
   "cell_type": "code",
   "execution_count": 19,
   "metadata": {
    "collapsed": true,
    "nbgrader": {
     "grade": false,
     "locked": true,
     "solution": false
    }
   },
   "outputs": [],
   "source": [
    "def dot(u, w):\n",
    "    return sum([ui*wi for ui, wi in zip(u, w)])"
   ]
  },
  {
   "cell_type": "code",
   "execution_count": 20,
   "metadata": {
    "nbgrader": {
     "grade": false,
     "locked": true,
     "solution": false
    }
   },
   "outputs": [
    {
     "data": {
      "text/markdown": [
       "$u = \\left[ \\begin{matrix} 1 \\\\ 2.5 \\end{matrix}\\right]$"
      ],
      "text/plain": [
       "<IPython.core.display.Markdown object>"
      ]
     },
     "metadata": {},
     "output_type": "display_data"
    },
    {
     "data": {
      "text/markdown": [
       "$w = \\left[ \\begin{matrix} 3.25 \\\\ 1.75 \\end{matrix}\\right]$"
      ],
      "text/plain": [
       "<IPython.core.display.Markdown object>"
      ]
     },
     "metadata": {},
     "output_type": "display_data"
    },
    {
     "data": {
      "text/markdown": [
       "$\\langle u, w \\rangle = (1\\cdot3.25)+(2.5\\cdot1.75) = 7.625$"
      ],
      "text/plain": [
       "<IPython.core.display.Markdown object>"
      ]
     },
     "metadata": {},
     "output_type": "display_data"
    }
   ],
   "source": [
    "u = (1, 2.5)\n",
    "w = (3.25, 1.75)\n",
    "\n",
    "display_math('u = ' + latex_vector(u))\n",
    "display_math('w = ' + latex_vector(w))\n",
    "u_dot_w_sum_long_latex = '+'.join([r'({}\\cdot{})'.format(ui, wi) for ui, wi in zip(u, w)])\n",
    "display_math(r'\\langle u, w \\rangle = ' + u_dot_w_sum_long_latex + ' = ' + str(dot(u, w)))"
   ]
  },
  {
   "cell_type": "markdown",
   "metadata": {
    "nbgrader": {
     "grade": false,
     "locked": true,
     "solution": false
    }
   },
   "source": [
    "There is another commonly used notation for the dot product, which we will use extensively when working with matrices. It requires the concept of a _row vector_.\n",
    "\n",
    "**Definition: row vectors and (vector) transposes.** Recall that we used the term _column_ with vectors and drew a vector as a vertical stack. As the very term \"column\" suggests, there is also a concept of a _row vector_. It will become important to distinguish between row and column vectors when we discuss matrices.\n",
    "\n",
    "In this class, the convention we will try to use is that a vector is a column vector unless otherwise specified; and when we need a \"row\" version of $v$, we will use the operation called the _transpose_ to get it from the (column) version, denoted as\n",
    "\n",
    "$$v^T \\equiv \\left[\\begin{matrix} v_0, v_1, \\ldots, v_{d-1} \\end{matrix}\\right].$$"
   ]
  },
  {
   "cell_type": "code",
   "execution_count": 21,
   "metadata": {
    "nbgrader": {
     "grade": false,
     "locked": true,
     "solution": false
    }
   },
   "outputs": [
    {
     "data": {
      "text/markdown": [
       "$v^T = \\left[ \\begin{matrix} 0.7170893139959232 , & 1.0 \\end{matrix}\\right]$"
      ],
      "text/plain": [
       "<IPython.core.display.Markdown object>"
      ]
     },
     "metadata": {},
     "output_type": "display_data"
    }
   ],
   "source": [
    "display_math('v^T = ' + latex_vector(v, transpose=True))"
   ]
  },
  {
   "cell_type": "markdown",
   "metadata": {
    "nbgrader": {
     "grade": false,
     "locked": true,
     "solution": false
    }
   },
   "source": [
    "**Notation: vector transpose form of the dot product.** Armed with the notions of both row and column vectors, here is an alternative way we will define a dot product:\n",
    "\n",
    "$$\\langle u, v \\rangle \\equiv u^T w \\ \\equiv \\  [u_0, \\ldots, u_{d-1}] \\cdot \\left[\\begin{matrix} w_0 \\\\ \\vdots \\\\ w_{d-1} \\end{matrix}\\right].$$\n",
    "\n",
    "That is, given two (column) vectors $u$ and $w$, the dot product is the sum of the elementwise products between the transpose of $u$ and $v$. We read \"$u^T w$\" as \"$u$-transpose times $v$.\""
   ]
  },
  {
   "cell_type": "code",
   "execution_count": 22,
   "metadata": {
    "nbgrader": {
     "grade": false,
     "locked": true,
     "solution": false
    }
   },
   "outputs": [
    {
     "data": {
      "text/markdown": [
       "$\\langle u, w \\rangle = u^T w = \\left[ \\begin{matrix} 1 , & 2.5 \\end{matrix}\\right] \\cdot \\left[ \\begin{matrix} 3.25 \\\\ 1.75 \\end{matrix}\\right] = (1\\cdot3.25)+(2.5\\cdot1.75) = 7.625$"
      ],
      "text/plain": [
       "<IPython.core.display.Markdown object>"
      ]
     },
     "metadata": {},
     "output_type": "display_data"
    }
   ],
   "source": [
    "u_dot_w_vec_latex = latex_vector(u, transpose=True) + r' \\cdot ' + latex_vector(w)\n",
    "display_math(r'\\langle u, w \\rangle = u^T w = ' + u_dot_w_vec_latex + ' = ' + u_dot_w_sum_long_latex + ' = ' + str(dot(u, w)))"
   ]
  },
  {
   "cell_type": "markdown",
   "metadata": {
    "nbgrader": {
     "grade": false,
     "locked": true,
     "solution": false
    }
   },
   "source": [
    "**Exercise.** Write some code to verify, using some examples, that $\\langle u, u \\rangle = u^T u = \\|u\\|_2^2$. In other words, the dot product of a vector with itself is the two-norm of that vector, squared."
   ]
  },
  {
   "cell_type": "code",
   "execution_count": 23,
   "metadata": {
    "collapsed": true,
    "nbgrader": {
     "grade": false,
     "locked": false,
     "solution": false
    }
   },
   "outputs": [],
   "source": [
    "# Write your code examples here"
   ]
  },
  {
   "cell_type": "markdown",
   "metadata": {
    "nbgrader": {
     "grade": false,
     "locked": true,
     "solution": false
    }
   },
   "source": [
    "### A geometric interpretation of the dot product\n",
    "\n",
    "Here is another important fact about the dot product that, later on, will help us interpret it.\n",
    "\n",
    "**Fact.** $u^T w = \\|u\\|_2 \\|w\\|_2 \\cos \\theta$, where $\\theta$ is the angle between $u$ and $w$.\n",
    "\n",
    "To see this fact, consider the following diagram."
   ]
  },
  {
   "cell_type": "code",
   "execution_count": 24,
   "metadata": {
    "nbgrader": {
     "grade": false,
     "locked": true,
     "solution": false
    }
   },
   "outputs": [
    {
     "data": {
      "image/png": "[encoded data removed]",
      "text/plain": [
       "<matplotlib.figure.Figure at 0x7fd5ec36dcf8>"
      ]
     },
     "metadata": {},
     "output_type": "display_data"
    }
   ],
   "source": [
    "def radians_to_degrees(radians):\n",
    "    from math import pi\n",
    "    return radians * (180.0 / pi)\n",
    "\n",
    "def get_angle_degrees(point):\n",
    "    assert len(point) == 2, \"Point must be 2-D.\"\n",
    "    from math import pi, atan2\n",
    "    return radians_to_degrees(atan2(point[1], point[0]))\n",
    "\n",
    "figure((6, 6))\n",
    "new_blank_plot(xlim=(-0.5, 4), ylim=(-0.5, 4));\n",
    "\n",
    "draw_vector2d(u, color='blue', width=0.05)\n",
    "plt.text(u[0], u[1], '$(u_x, u_y) = ({}, {})$'.format(u[0], u[1]), color='blue',\n",
    "         horizontalalignment='center', verticalalignment='bottom', fontsize=14)\n",
    "draw_vector2d(w, color='green', width=0.05)\n",
    "plt.text(w[0], w[1], '$(w_x, w_y) = ({}, {})$'.format(w[0], w[1]), color='green',\n",
    "         horizontalalignment='center', verticalalignment='bottom', fontsize=14)\n",
    "\n",
    "draw_vector2d_components(u, y_offset_sign=1, color='blue', linestyle='dashed')\n",
    "draw_vector2d_components(w, y_offset_sign=-1, color='green', linestyle='dashed')\n",
    "\n",
    "phi_degrees = get_angle_degrees(w)\n",
    "theta_degrees = get_angle_degrees(u) - phi_degrees\n",
    "draw_angle(0, phi_degrees, radius=1.5, color='green')\n",
    "draw_angle_label(0, phi_degrees, r'$\\phi$', radius=1.6, color='green', fontsize=18)\n",
    "draw_angle(phi_degrees, phi_degrees+theta_degrees, radius=2, color='blue')\n",
    "draw_angle_label(phi_degrees, phi_degrees+theta_degrees, r'$\\theta$', radius=2.1, color='blue', fontsize=18)"
   ]
  },
  {
   "cell_type": "markdown",
   "metadata": {
    "nbgrader": {
     "grade": false,
     "locked": true,
     "solution": false
    }
   },
   "source": [
    "**Exercise.** Let $u = \\left[\\begin{matrix} u_x \\\\ u_y \\end{matrix}\\right]$ and $w = \\left[\\begin{matrix} w_x \\\\ w_y \\end{matrix}\\right]$. The vector $u$ is shown as the blue line and $w$ as the green line in the figure above. Let $\\phi$ be the angle that $w$ makes with the x-axis, and let $\\theta$ be the angle between $u$ and $w$. Using [trigonometric identities](https://en.wikipedia.org/wiki/List_of_trigonometric_identities#Angle_sum_and_difference_identities) from elementary geometry, prove that $u^T w = \\|u\\|_2 \\|w\\|_2 \\cos \\theta$.\n",
    "\n",
    "> _Hint._ Here is one way to start: observe that, for instance, $w_y = \\|w\\|_2 \\sin \\phi$ and $u_x = \\|u\\|_2 \\cos (\\theta+\\phi)$, and then apply one or more trigonometric identities as needed."
   ]
  },
  {
   "cell_type": "markdown",
   "metadata": {
    "nbgrader": {
     "grade": false,
     "locked": true,
     "solution": false
    }
   },
   "source": [
    "**Interpretation.** So what does the dot product mean? One can interpret it as a \"strength of association\" between the two vectors, similar to statistical correlation. To see why, observe that the dot product accounts for both the lengths of the vectors and their relative orientation.\n",
    "\n",
    "The vector lengths are captured by the product of their lengths ($\\|u\\|_2 \\|w\\|_2$). The longer the vectors are, the larger the product of their lengths, $\\|u\\|_2 \\|w\\|_2$. If you know only the lengths of the vectors, their dot product can never be larger than this product.\n",
    "\n",
    "The relative orientation is captured by $\\cos \\theta$. That factor moderates the maximum possible value. In particular, if the two vectors point in exactly the same direction, meaning $\\theta = 0$, then $\\cos \\theta = 1$ and the dot product is exactly the maximum, $\\|u\\|_2 \\|w\\|_2$. If instead the vectors point in opposite directions, meaning $\\theta = \\pi\\ \\mathrm{radians} = 180^{\\circ}$, then $\\cos \\theta = -1$ and the dot product is $-\\|u\\|_2 \\|w\\|_2$. For any other values of $\\theta$ between $0$ and $2 \\pi\\ \\mathrm{radians}$ (or $360^{\\circ}$), $|\\cos \\theta| < 1$ so that $|u^T w| < \\|u\\|_2 \\|w\\|_2$.\n",
    "\n",
    "In the context of data analysis, the analogous measurement to $\\cos \\theta$ is the [Pearson correlation coefficient](https://en.wikipedia.org/wiki/Pearson_correlation_coefficient). Each vector would represent a regression line that goes through some sample of points, with $\\cos \\theta$ measuing the angle between the two regression lines. The diagram above gives you a geometric way to think about such correlations."
   ]
  },
  {
   "cell_type": "markdown",
   "metadata": {
    "nbgrader": {
     "grade": false,
     "locked": true,
     "solution": false
    }
   },
   "source": [
    "## Linear transformations"
   ]
  },
  {
   "cell_type": "markdown",
   "metadata": {
    "nbgrader": {
     "grade": false,
     "locked": true,
     "solution": false
    }
   },
   "source": [
    "The basic operations we considered above take one or more vectors as input and _transform_ them in some way. In this part of the notebook, we examine what is arguably the most important general class of transformations, which are known as _linear transformations_. Before doing so, let's start with some auxiliary concepts."
   ]
  },
  {
   "cell_type": "markdown",
   "metadata": {
    "nbgrader": {
     "grade": false,
     "locked": true,
     "solution": false
    }
   },
   "source": [
    "**Definition: vector-valued functions** (also, _vector functions_). Let $f(v)$ be a function that takes as input any vector $v$ and returns another vector. Because $f$ returns a vector, we will sometimes refer to it as a _vector-valued function_ or just _vector function_ for short.\n",
    "\n",
    "Note that the input and output vectors of $f$ need **not** have the same lengths!"
   ]
  },
  {
   "cell_type": "markdown",
   "metadata": {
    "nbgrader": {
     "grade": false,
     "locked": true,
     "solution": false
    }
   },
   "source": [
    "**Example: $\\mathrm{scale}_\\alpha(v)$.** Scaling is a simple example of a vector function. If we name this function $\\mathrm{scale}$ and parameterize it by the scaling coefficient $\\alpha$, then we might write it down mathematically as\n",
    "\n",
    "$$\\mathrm{scale}_\\alpha(v) \\equiv \\alpha v.$$\n",
    "\n",
    "So,\n",
    "\n",
    "$$\\mathrm{scale}_{1.25}(v) = 1.25 \\left[\\begin{matrix} v_0 \\\\ \\vdots \\\\ v_{d-1} \\end{matrix}\\right] = \\left[\\begin{matrix} 1.25 v_0 \\\\ \\vdots \\\\ 1.25 v_{d-1} \\end{matrix}\\right].$$\n",
    "\n",
    "The code implementation would look identical to the Python `scale()` we defined previously."
   ]
  },
  {
   "cell_type": "markdown",
   "metadata": {
    "nbgrader": {
     "grade": false,
     "locked": true,
     "solution": false
    }
   },
   "source": [
    "**Example: $\\mathrm{avgpairs}(v)$.** Let $v$ be a vector whose length, $d$, is even. Here is a vector function that returns a new vector of half the number of components, where elements of the new vector are the averages of adjacent pairs of $v$:\n",
    "\n",
    "$$\\mathrm{avgpairs}(v) \\equiv \\left[\\begin{matrix} \\frac{1}{2}(v_0 + v_1) \\\\ \\frac{1}{2}(v_2 + v_3) \\\\ \\vdots \\\\ \\frac{1}{2}(v_{d-2} + v_{d-1}) \\end{matrix}\\right].$$"
   ]
  },
  {
   "cell_type": "markdown",
   "metadata": {
    "nbgrader": {
     "grade": false,
     "locked": true,
     "solution": false
    }
   },
   "source": [
    "**Exercise.** Write a Python function that implements $\\mathrm{avgpairs}(v)$."
   ]
  },
  {
   "cell_type": "code",
   "execution_count": 25,
   "metadata": {
    "nbgrader": {
     "grade": false,
     "locked": false,
     "solution": false
    }
   },
   "outputs": [
    {
     "name": "stdout",
     "output_type": "stream",
     "text": [
      "(1, 2, 3, 4, 5, 6, 7, 8) => (1.5, 3.5, 5.5, 7.5)\n"
     ]
    }
   ],
   "source": [
    "# Sample solution; how would you have done it?\n",
    "def avgpairs(v):\n",
    "    assert dim(v) % 2 == 0, \"Input vector `v` must be of even dimension.\"\n",
    "    v_pairs = zip(v[:-1:2], v[1::2])\n",
    "    v_avg = [0.5*(ve + vo) for ve, vo in v_pairs]\n",
    "    return vector(*v_avg)\n",
    "\n",
    "v_pairs = vector(1, 2, 3, 4, 5, 6, 7, 8)\n",
    "print(v_pairs, \"=>\", avgpairs(v_pairs))"
   ]
  },
  {
   "cell_type": "markdown",
   "metadata": {
    "nbgrader": {
     "grade": false,
     "locked": true,
     "solution": false
    }
   },
   "source": [
    "**Definition: linear functions (or linear transformations).** A function $f(v)$ is a _linear transformation_ if it satisfies the following two properties:\n",
    "\n",
    "1. $f(\\sigma v) = \\sigma f(v)$, where $\\sigma$ is a scalar value.\n",
    "2. $f(v + w) = f(v) + f(w)$.\n",
    "\n",
    "The first property says that $f$ applied to a scaled vector is the same as first applying $f$ to the vector and scaling the result. The second property says that $f$ applied to the sum of two vectors is the same as first applying $f$ to the individual vectors and then adding the result.\n",
    "\n",
    "When combined, these properties are equivalent to the more concise statement that $f(\\sigma v + w) = \\sigma f(v) + f(w)$."
   ]
  },
  {
   "cell_type": "markdown",
   "metadata": {
    "nbgrader": {
     "grade": false,
     "locked": true,
     "solution": false
    }
   },
   "source": [
    "**Exercise.** The function $\\mathrm{scale}_\\alpha(v)$ is a linear transformation––true or false?\n",
    "\n",
    "> _Answer._ This statement is true:\n",
    ">\n",
    "> - Property 1: $\\mathrm{scale}_\\alpha(\\sigma v) = \\alpha (\\sigma v) = \\sigma (\\alpha v) = \\sigma \\mathrm{scale}_\\alpha(v).$\n",
    "> - Property 2: $\\mathrm{scale}_\\alpha(v + w) = \\alpha(v + w) = \\alpha v + \\alpha w = \\mathrm{scale}_\\alpha(v) + \\mathrm{scale}_\\alpha(w).$\n",
    "\n",
    "To see this fact in action, run the following experiment."
   ]
  },
  {
   "cell_type": "code",
   "execution_count": 26,
   "metadata": {
    "nbgrader": {
     "grade": false,
     "locked": true,
     "solution": false
    }
   },
   "outputs": [
    {
     "data": {
      "text/markdown": [
       "$\\mathrm{scale}_{1.25}\\left( x \\right) \\equiv 1.25 \\cdot x$"
      ],
      "text/plain": [
       "<IPython.core.display.Markdown object>"
      ]
     },
     "metadata": {},
     "output_type": "display_data"
    }
   ],
   "source": [
    "DEFAULT_ALPHA = 1.25\n",
    "def scale_alpha(v, alpha=DEFAULT_ALPHA):\n",
    "    return scale(v, alpha)\n",
    "\n",
    "def latex_scale_alpha(x, alpha=DEFAULT_ALPHA):\n",
    "    return r'\\mathrm{{scale}}_{{{}}}\\left( {} \\right)'.format(alpha, x)\n",
    "\n",
    "display_math(r'''{} \\equiv {} \\cdot {}'''.format(latex_scale_alpha('x'), DEFAULT_ALPHA, 'x'))"
   ]
  },
  {
   "cell_type": "code",
   "execution_count": 27,
   "metadata": {
    "nbgrader": {
     "grade": false,
     "locked": true,
     "solution": false
    }
   },
   "outputs": [
    {
     "data": {
      "text/markdown": [
       "$u_0 \\equiv \\mathrm{scale}_{1.25}\\left( 0.75 \\left[ \\begin{matrix} 3.0 \\\\ 2.0 \\end{matrix}\\right] + \\left[ \\begin{matrix} -1.5 \\\\ 1.0 \\end{matrix}\\right] \\right) = \\mathrm{scale}_{1.25}\\left( \\left[ \\begin{matrix} 0.75 \\\\ 2.5 \\end{matrix}\\right] \\right) = \\left[ \\begin{matrix} 0.9375 \\\\ 3.125 \\end{matrix}\\right]$"
      ],
      "text/plain": [
       "<IPython.core.display.Markdown object>"
      ]
     },
     "metadata": {},
     "output_type": "display_data"
    },
    {
     "data": {
      "image/png": "[encoded data removed]",
      "text/plain": [
       "<matplotlib.figure.Figure at 0x7fd5ec2d10f0>"
      ]
     },
     "metadata": {},
     "output_type": "display_data"
    }
   ],
   "source": [
    "# f(ve) where ve = sigma*va + vb\n",
    "u0 = scale_alpha(ve)\n",
    "\n",
    "u0_latex = latex_vector(u0)\n",
    "arg_str = r'{} {} + {}'.format(sigma, va_latex, vb_latex)\n",
    "lhs_str = latex_scale_alpha(arg_str)\n",
    "arg2_str = ve_latex\n",
    "mid_str = latex_scale_alpha(arg2_str)\n",
    "rhs_str = u0_latex\n",
    "display_math(r'u_0 \\equiv {} = {} = {}'.format(lhs_str, mid_str, rhs_str))\n",
    "\n",
    "axes = subplots((1, 2))\n",
    "new_blank_plot(axes[0], title='black = sigma*blue + red')\n",
    "draw_vector2d(va_scaled, color='blue', alpha=0.5)\n",
    "draw_vector2d(vb, origin=va_scaled, color='red', alpha=0.5)\n",
    "draw_vector2d(ve)\n",
    "\n",
    "new_blank_plot(axes[1], title='f(black)')\n",
    "draw_vector2d(scale_alpha(ve))"
   ]
  },
  {
   "cell_type": "code",
   "execution_count": 28,
   "metadata": {
    "nbgrader": {
     "grade": false,
     "locked": true,
     "solution": false
    }
   },
   "outputs": [
    {
     "data": {
      "text/markdown": [
       "$\\frac{\\left\\| \\left[ \\begin{matrix} 0.9375 \\\\ 3.125 \\end{matrix}\\right] \\right\\|_2}{\\left\\| 0.75 \\left[ \\begin{matrix} 3.0 \\\\ 2.0 \\end{matrix}\\right] + \\left[ \\begin{matrix} -1.5 \\\\ 1.0 \\end{matrix}\\right] \\right\\|_2} = 1.2499999999999998$"
      ],
      "text/plain": [
       "<IPython.core.display.Markdown object>"
      ]
     },
     "metadata": {},
     "output_type": "display_data"
    }
   ],
   "source": [
    "display_math(r'''\\frac{{{}}}{{{}}} = {}'''.format(latex_norm(rhs_str),\n",
    "                                                  latex_norm(arg_str),\n",
    "                                                  norm(u0) / norm(ve)))"
   ]
  },
  {
   "cell_type": "code",
   "execution_count": 29,
   "metadata": {
    "nbgrader": {
     "grade": false,
     "locked": true,
     "solution": false
    }
   },
   "outputs": [
    {
     "data": {
      "text/markdown": [
       "$u_1 \\equiv 0.75 \\cdot \\mathrm{scale}_{1.25}\\left( \\left[ \\begin{matrix} 3.0 \\\\ 2.0 \\end{matrix}\\right] \\right) + \\mathrm{scale}_{1.25}\\left( \\left[ \\begin{matrix} -1.5 \\\\ 1.0 \\end{matrix}\\right] \\right) = \\left[ \\begin{matrix} 0.9375 \\\\ 3.125 \\end{matrix}\\right]$"
      ],
      "text/plain": [
       "<IPython.core.display.Markdown object>"
      ]
     },
     "metadata": {},
     "output_type": "display_data"
    },
    {
     "data": {
      "image/png": "[encoded data removed]",
      "text/plain": [
       "<matplotlib.figure.Figure at 0x7fd5ec35f8d0>"
      ]
     },
     "metadata": {},
     "output_type": "display_data"
    }
   ],
   "source": [
    "# sigma*f(va) + f(vb)\n",
    "u1_a = scale_alpha(va)\n",
    "u1_aa = scale(u1_a, sigma)\n",
    "u1_b = scale_alpha(vb)\n",
    "u1 = add(u1_aa, u1_b)\n",
    "\n",
    "display_math(r'''u_1 \\equiv {} \\cdot {} + {} = {}'''.format(sigma,\n",
    "                                                            latex_scale_alpha(va_latex),\n",
    "                                                            latex_scale_alpha(vb_latex),\n",
    "                                                            latex_vector(u1)))\n",
    "\n",
    "_, axes = plt.subplots(1, 4, figsize=(19, 4), sharey='row')\n",
    "\n",
    "new_blank_plot(axes[0], title='blue, red')\n",
    "draw_vector2d(va, color='blue')\n",
    "draw_vector2d(vb, color='red')\n",
    "\n",
    "new_blank_plot(axes[1], title='f(blue), f(red)')\n",
    "draw_vector2d(u1_a, color='blue')\n",
    "draw_vector2d(u1_b, color='red')\n",
    "\n",
    "new_blank_plot(axes[2], title='sigma * f(blue)')\n",
    "draw_vector2d(u1_aa, color='blue')\n",
    "\n",
    "new_blank_plot(axes[3], title='black = sigma*f(blue) + f(red)')\n",
    "draw_vector2d(u1_aa, color='blue', alpha=0.5)\n",
    "draw_vector2d(u1_b, origin=u1_aa, color='red', alpha=0.5)\n",
    "draw_vector2d(u1)"
   ]
  },
  {
   "cell_type": "markdown",
   "metadata": {
    "nbgrader": {
     "grade": false,
     "locked": true,
     "solution": false
    }
   },
   "source": [
    "**Exercise.** The function $\\mathrm{avgpairs}(v)$ is a linear transformation––true or false?"
   ]
  },
  {
   "cell_type": "markdown",
   "metadata": {
    "nbgrader": {
     "grade": false,
     "locked": true,
     "solution": false
    }
   },
   "source": [
    "**Exercise.** Let $\\mathrm{norm}(v) \\equiv \\|v\\|_1$. Is $\\mathrm{norm}(v)$ a linear transformation?"
   ]
  },
  {
   "cell_type": "markdown",
   "metadata": {
    "nbgrader": {
     "grade": false,
     "locked": true,
     "solution": false
    }
   },
   "source": [
    "**Exercise.** Let $\\mathrm{offset}_\\delta(v) \\equiv v + \\delta$, where $\\delta$ is some scalar value (i.e., $\\delta$ is a single number, not a vector). That is,\n",
    "\n",
    "$$\n",
    "\\mathrm{offset}_\\delta(v) \\equiv \\left[\\begin{matrix} v_0 + \\delta \\\\ v_1 + \\delta \\\\ \\vdots \\\\ v_{d-1} + \\delta \\end{matrix}\\right].\n",
    "$$\n",
    "\n",
    "Is $\\mathrm{offset}_\\delta(v)$ a linear transformation?"
   ]
  },
  {
   "cell_type": "markdown",
   "metadata": {
    "nbgrader": {
     "grade": false,
     "locked": true,
     "solution": false
    }
   },
   "source": [
    "**Exercise.** Suppose we are operating in a two-dimensional space. Let\n",
    "\n",
    "$$\\mathrm{rotate}_{\\theta}(v) \\equiv \\vectwo{v_0 \\cos \\theta - v_1 \\sin \\theta}{v_0 \\sin \\theta + v_1 \\cos \\theta}.$$\n",
    "\n",
    "Is $\\mathrm{rotate}_{\\theta}(v)$ a linear transformation?\n",
    "\n",
    "While, after, or instead of pondering the answer for $\\mathrm{rotate}_\\theta$, here is some code to visualize its effects. (This code selects a rotation angle at random, so you run it repeatedly to see the effects under different angles.)"
   ]
  },
  {
   "cell_type": "code",
   "execution_count": 30,
   "metadata": {
    "nbgrader": {
     "grade": false,
     "locked": true,
     "solution": false
    }
   },
   "outputs": [
    {
     "data": {
      "image/png": "[encoded data removed]",
      "text/plain": [
       "<matplotlib.figure.Figure at 0x7fd5ec4094a8>"
      ]
     },
     "metadata": {},
     "output_type": "display_data"
    }
   ],
   "source": [
    "def random_angle(min_angle=0, max_angle=None):\n",
    "    \"\"\"\n",
    "    Returns a random angle in the specified interval\n",
    "    or (0, pi) if no interval is given.\n",
    "    \"\"\"\n",
    "    from math import pi\n",
    "    from random import uniform\n",
    "    if max_angle is None: max_angle = pi\n",
    "    return uniform(0, max_angle)\n",
    "\n",
    "def rotate(v, theta=0):\n",
    "    from math import cos, sin\n",
    "    assert dim(v) == 2, \"Input vector must be 2-D.\"\n",
    "    return vector(v[0]*cos(theta) - v[1]*sin(theta),\n",
    "                  v[0]*sin(theta) + v[1]*cos(theta))\n",
    "\n",
    "v_rand = normalize_vector(random_vector())\n",
    "theta_rand = random_angle()\n",
    "w_rand = rotate(v_rand, theta_rand)\n",
    "\n",
    "figure()\n",
    "new_blank_plot(xlim=(-1, 1), ylim=(-1, 1),\n",
    "               title=r'black = rotate blue by $\\approx${:.0f}$^\\circ$ counterclockwise'.format(radians_to_degrees(theta_rand)))\n",
    "draw_vector2d(v_rand, color='blue', width=0.05)\n",
    "draw_vector2d(w_rand, color='black', width=0.05)"
   ]
  },
  {
   "cell_type": "markdown",
   "metadata": {
    "nbgrader": {
     "grade": false,
     "locked": true,
     "solution": false
    }
   },
   "source": [
    "## Linear transformations using matrices\n",
    "\n",
    "If $f$ is a linear transformation, then $f(\\alpha v + \\beta w) = \\alpha f(v) + \\beta f(w)$. In fact, the reverse is _also_ true: if $f(\\alpha v + \\beta w) = \\alpha f(v) + \\beta f(w)$, then $f$ must be a linear transformation. Refer to the [LAFF notes](http://ulaff.net/) for a formal proof of this fact."
   ]
  },
  {
   "cell_type": "markdown",
   "metadata": {
    "nbgrader": {
     "grade": false,
     "locked": true,
     "solution": false
    }
   },
   "source": [
    "Here is one immediate consequence of this fact. Suppose you have $n$ vectors, named $v_0, v_1, \\ldots, v_{n-1}$. Here, $v_i$ is the name of a vector, rather than an element of a vector; the components of $v_i$ would be $v_{0,i}, v_{1,i}, \\ldots$. Let's also suppose you have $n$ scalars, named $\\alpha_0, \\alpha_1, \\ldots, \\alpha_{n-1}$. Then,\n",
    "\n",
    "$$f(\\alpha_0 v_0 + \\alpha_1 v_1 + \\cdots + \\alpha_{n-1} v_{n-1})\n",
    "  = \\alpha_0 f(v_0) + \\alpha_1 f(v_1) + \\cdots + \\alpha_{n-1} f(v_{n-1}).$$"
   ]
  },
  {
   "cell_type": "markdown",
   "metadata": {
    "nbgrader": {
     "grade": false,
     "locked": true,
     "solution": false
    }
   },
   "source": [
    "This fact makes $f$ very special because it allows you to figure out the effect of $f$ if you are allowed to \"sample\" it on particular values, the $\\{v_i\\}$. For example, suppose $f(v)$ operates on two-dimensional vectors and returns two-dimensional vectors as a result."
   ]
  },
  {
   "cell_type": "markdown",
   "metadata": {
    "nbgrader": {
     "grade": false,
     "locked": true,
     "solution": false
    }
   },
   "source": [
    "**Exercise.** Let $f(v)$ be a linear transformation on two-dimensional vectors $v$. Suppose you are told that\n",
    "\n",
    "$$\n",
    "\\begin{eqnarray}\n",
    "  \\func{f}{\\vectwo{1}{0}} & = & \\vectwo{3}{5} \\\\\n",
    "  \\func{f}{\\vectwo{0}{1}} & = & \\vectwo{-1}{2}.\n",
    "\\end{eqnarray}\n",
    "$$\n",
    "Determine $\\func{f}{\\vectwo{2}{-4}}$."
   ]
  },
  {
   "cell_type": "markdown",
   "metadata": {
    "nbgrader": {
     "grade": false,
     "locked": true,
     "solution": false
    }
   },
   "source": [
    "_Answer._ Start by observing that\n",
    "\n",
    "$$\n",
    "\\vectwo{2}{-4} = 2 \\vectwo{1}{0} - 4 \\vectwo{0}{1}.\n",
    "$$\n",
    "\n",
    "Since $f$ is a linear transformation,\n",
    "\n",
    "$$\n",
    "\\func{f}{\\vectwo{2}{-4}}\n",
    "= \\func{f}{2 \\vectwo{1}{0} - 4 \\vectwo{0}{1}}\n",
    "= 2 \\func{f}{\\vectwo{1}{0}} - 4 \\func{f}{\\vectwo{0}{1}}\n",
    "= 2 \\vectwo{3}{5} - 4 \\vectwo{-1}{2}\n",
    "= \\vectwo{2 \\cdot 3 - 4 \\cdot (-1)}{2 \\cdot 5 - 4 \\cdot 2}\n",
    "= \\vectwo{10}{2}.\n",
    "$$"
   ]
  },
  {
   "cell_type": "markdown",
   "metadata": {
    "nbgrader": {
     "grade": false,
     "locked": true,
     "solution": false
    }
   },
   "source": [
    "**Canonical axis vectors.** In the preceding example, you were given samples of $f$ on two very special vectors, namely, a distinct set of perpendicular unit vectors having a \"1\" in just one component of the vector. Let's denote these special vectors by $e_j$ where, in a $d$-dimensional space,\n",
    "\n",
    "$$\n",
    "e_j \\equiv \\left[\\begin{array}{cl}\n",
    "             0 & \\leftarrow 0\\mbox{-th component} \\\\\n",
    "             \\vdots & \\\\\n",
    "             0 \\\\\n",
    "             1 & \\leftarrow j\\mbox{-th component}\\\\\n",
    "             0 & \\\\\n",
    "             \\vdots & \\\\\n",
    "             0 & \\leftarrow (d-1)\\mbox{-th component}\n",
    "           \\end{array}\\right]\n",
    "           $$\n",
    "We'll refer to these as the _canonical axis vectors_.\n",
    "\n",
    "> In the LAFF notes, these are called the _unit basis vectors_, which is more standard terminology in the linear algebra literature."
   ]
  },
  {
   "cell_type": "markdown",
   "metadata": {
    "nbgrader": {
     "grade": false,
     "locked": true,
     "solution": false
    }
   },
   "source": [
    "**Matrix representations.** Any vector may be written in terms of these canonical axis vectors.\n",
    "\n",
    "$$\n",
    "v\n",
    "= \\vecthree{v_0}{\\vdots}{v_{d-1}}\n",
    "= v_0 \\vecthree{1}{\\vdots}{0} + \\cdots + v_{d-1} \\vecthree{0}{\\vdots}{1}\n",
    "= v_0 e_0 + \\cdots + v_{d-1} e_{d-1}\n",
    "= \\sum_{j=0}^{d-1} v_j e_j.\n",
    "$$"
   ]
  },
  {
   "cell_type": "markdown",
   "metadata": {
    "nbgrader": {
     "grade": false,
     "locked": true,
     "solution": false
    }
   },
   "source": [
    "Therefore, consider any linear transformation, $f$. If you are given samples of $f$ along all axes, $\\{x_j \\equiv f(e_j)\\}$, then that is enough to calculate $f$ for any vector $v$:\n",
    "\n",
    "$$\n",
    "\\func{f}{v}\n",
    "= \\func{f}{\\sum_{j=0}^{d-1} v_j e_j}\n",
    "= \\sum_{j=0}^{d-1} v_j \\func{f}{e_j}\n",
    "= \\sum_{j=0}^{d-1} v_j x_j.\n",
    "$$"
   ]
  },
  {
   "cell_type": "markdown",
   "metadata": {
    "nbgrader": {
     "grade": false,
     "locked": true,
     "solution": false
    }
   },
   "source": [
    "Let's suppose $v$ is $n$-dimensional. Therefore, there are $n$ canonical axis vectors. If the result of $f(v)$ is $m$-dimensional, then each of the $x_j$ vectors is also $m$ dimensional. Therefore, we can write each $x_j$ as\n",
    "\n",
    "$$\n",
    "x_j = \\vecthree{x_{0,j}}{\\vdots}{x_{m-1,j}}.\n",
    "$$"
   ]
  },
  {
   "cell_type": "markdown",
   "metadata": {
    "nbgrader": {
     "grade": false,
     "locked": true,
     "solution": false
    }
   },
   "source": [
    "A convenient way to represent the full collection of all $n$ of the $x_j$ vectors is in the form of a _matrix_, where each column corresponds to one of these $x_j$ vectors:\n",
    "\n",
    "$$\n",
    "X\n",
    "= \\left[\\begin{matrix} x_0 & \\cdots & x_{n-1} \\end{matrix}\\right]\n",
    "= \\left[\\begin{matrix}\n",
    "    x_{0,0}   & \\cdots & x_{0,n-1} \\\\\n",
    "    \\vdots    & \\ddots & \\vdots \\\\\n",
    "    x_{m-1,0} & \\cdots & x_{m-1,n-1}\n",
    "  \\end{matrix}\\right].\n",
    "$$"
   ]
  },
  {
   "cell_type": "markdown",
   "metadata": {
    "nbgrader": {
     "grade": false,
     "locked": true,
     "solution": false
    }
   },
   "source": [
    "**Aside: Specifying the dimensions of a matrix.** Similar to the way we \"declare\" a vector $v$ to have dimension $d$ by writing $v \\in \\mathbb{R}^d$, we have a similar notation to specify that a matrix has dimensions of, say, $m$-by-$n$: we write $X \\in \\mathbb{R}^{m \\times n}$."
   ]
  },
  {
   "cell_type": "markdown",
   "metadata": {
    "nbgrader": {
     "grade": false,
     "locked": true,
     "solution": false
    }
   },
   "source": [
    "**Example.** Recall the previous example where\n",
    "\n",
    "$$\n",
    "  \\func{f}{\\vectwo{1}{0}} = \\vectwo{3}{5} \\quad \\mbox{and} \\quad \\func{f}{\\vectwo{0}{1}} = \\vectwo{-1}{2}.\n",
    "$$\n",
    "What is the matrix $X$ that represents $f$?"
   ]
  },
  {
   "cell_type": "markdown",
   "metadata": {
    "nbgrader": {
     "grade": false,
     "locked": true,
     "solution": false
    }
   },
   "source": [
    "_Answer._ We were given $f$ at the canonical axis vectors, which then become the columns of the corresponding matrix.\n",
    "\n",
    "$$\n",
    "X = \\left[\\begin{matrix} 3 & -1 \\\\ 5 & 2 \\end{matrix}\\right].\n",
    "$$"
   ]
  },
  {
   "cell_type": "markdown",
   "metadata": {
    "nbgrader": {
     "grade": false,
     "locked": true,
     "solution": false
    }
   },
   "source": [
    "**Exercise.** What is the matrix $X$ that represents $\\mathrm{rotate}_\\theta(v)$?"
   ]
  },
  {
   "cell_type": "markdown",
   "metadata": {
    "nbgrader": {
     "grade": false,
     "locked": true,
     "solution": false
    }
   },
   "source": [
    "**A code representation.** In this course, you will see many ways of representing matrices and vectors. For the purpose of this notebook, let's store a matrix as a tuple of (column) vectors. Here is a Python function, `matrix(x0, x1, ...)`, where each argument is a column vector, that stores the columns in a tuple."
   ]
  },
  {
   "cell_type": "code",
   "execution_count": 31,
   "metadata": {
    "nbgrader": {
     "grade": false,
     "locked": true,
     "solution": false
    }
   },
   "outputs": [
    {
     "name": "stdout",
     "output_type": "stream",
     "text": [
      "X = ((3, 5), (-1, 2))\n"
     ]
    }
   ],
   "source": [
    "def matrix(*cols):\n",
    "    if len(cols) > 2:\n",
    "        a_cols = cols[:-1]\n",
    "        b_cols = cols[1:]\n",
    "        for k, (a, b) in enumerate(zip(a_cols, b_cols)):\n",
    "            assert dim(a) == dim(b), \\\n",
    "                   \"Columns {} and {} have different lengths ({} vs. {})\".format(k, k+1, dim(a), dim(b))\n",
    "    return tuple(cols)\n",
    "\n",
    "def num_cols(X):\n",
    "    return len(X)\n",
    "\n",
    "def num_rows(X):\n",
    "    return dim(X[0]) if num_cols(X) >= 1 else 0\n",
    "\n",
    "# Demo\n",
    "X = matrix(vector(3, 5), vector(-1, 2))\n",
    "print(\"X =\", X)"
   ]
  },
  {
   "cell_type": "markdown",
   "metadata": {
    "nbgrader": {
     "grade": false,
     "locked": true,
     "solution": false
    }
   },
   "source": [
    "Here is a snippet of code that will be useful for pretty-printing matrices."
   ]
  },
  {
   "cell_type": "code",
   "execution_count": 32,
   "metadata": {
    "nbgrader": {
     "grade": false,
     "locked": true,
     "solution": false
    }
   },
   "outputs": [
    {
     "data": {
      "text/markdown": [
       "$X = \\left[\\begin{matrix}3 & -1 \\\\5 & 2 \\end{matrix}\\right]$"
      ],
      "text/plain": [
       "<IPython.core.display.Markdown object>"
      ]
     },
     "metadata": {},
     "output_type": "display_data"
    }
   ],
   "source": [
    "def matelem(X, row, col):\n",
    "    assert col < dim(X), \"Column {} is invalid (matrix only has {} columns).\".format(col, dim(X))\n",
    "    x_j = X[col]\n",
    "    assert row < dim(x_j), \"Row {} is invalid (matrix only has {} rows).\".format(row, dim(x_j))\n",
    "    return x_j[row]\n",
    "\n",
    "def latex_matrix(X):\n",
    "    m, n = num_rows(X), num_cols(X)\n",
    "    s = r'\\left[\\begin{matrix}'\n",
    "    for i in range(m):\n",
    "        if i > 0: s += r' \\\\' # New row\n",
    "        for j in range(n):\n",
    "            if j > 0: s += ' & '\n",
    "            s += str(matelem(X, i, j))\n",
    "    s += r' \\end{matrix}\\right]'\n",
    "    return s\n",
    "\n",
    "X_latex = latex_matrix(X)\n",
    "display_math('X = ' + X_latex)"
   ]
  },
  {
   "cell_type": "markdown",
   "metadata": {
    "nbgrader": {
     "grade": false,
     "locked": true,
     "solution": false
    }
   },
   "source": [
    "**Definition: matrix-vector product** (matrix-vector multiply). Let's define the _matrix-vector product_ (or _matrix-vector multiply_) as follows.\n",
    "\n",
    "Given an $m$-by-$n$ matrix $X$ and a vector $v$ of length $n$, the _matrix-vector product_ is given by\n",
    "\n",
    "$$\n",
    "  X v\n",
    "  = \\left[\\begin{matrix} x_0 & \\cdots & x_{n-1} \\end{matrix}\\right] \\vecthree{v_0}{\\vdots}{v_{n-1}}\n",
    "  = x_0 v_0 + \\cdots + x_{n-1} v_{n-1}.\n",
    "$$"
   ]
  },
  {
   "cell_type": "markdown",
   "metadata": {
    "nbgrader": {
     "grade": false,
     "locked": true,
     "solution": false
    }
   },
   "source": [
    "With this notation, a linear transformation $f$ represented by $X$ may be written as $f(v) = X v$.\n",
    "\n",
    "> We will sometimes write the matrix vector product with an explicit \"dot\" operator, $X \\cdot v$. This usage is arbitrary and we will use it for aesthetic reasons only.\n",
    "\n",
    "**Linear combination.** The action of a matrix-vector product is to use the entries of $v$ to scale the corresponding columns of $X$ followed by a sum of the resulting scaled vectors. We say that $X v$ is a _linear combination_ of the columns of $X$. The \"coefficients\" or \"weights\" of this linear combination are the elements of $v$."
   ]
  },
  {
   "cell_type": "markdown",
   "metadata": {
    "nbgrader": {
     "grade": false,
     "locked": true,
     "solution": false
    }
   },
   "source": [
    "**Example.** Continuing the example above, calculate $f([2, -4]^T)$ using $X$."
   ]
  },
  {
   "cell_type": "markdown",
   "metadata": {
    "nbgrader": {
     "grade": false,
     "locked": true,
     "solution": false
    }
   },
   "source": [
    "_Answer._ We can apply the matrix-vector product:\n",
    "\n",
    "$$\n",
    "  \\left[\\begin{matrix} 3 & -1 \\\\ 5 & 2 \\end{matrix}\\right] \\vectwo{2}{-4}\n",
    "  = 2 \\vectwo{3}{5} - 4 \\vectwo{-1}{2},\n",
    "$$\n",
    "which is the same result as before."
   ]
  },
  {
   "cell_type": "markdown",
   "metadata": {
    "nbgrader": {
     "grade": false,
     "locked": true,
     "solution": false
    }
   },
   "source": [
    "Here is a Python code implementation of the matrix-vector product. Take a moment to verify that you understand how it works."
   ]
  },
  {
   "cell_type": "code",
   "execution_count": 33,
   "metadata": {
    "nbgrader": {
     "grade": false,
     "locked": true,
     "solution": false
    }
   },
   "outputs": [
    {
     "data": {
      "text/markdown": [
       "$X v = \\left[\\begin{matrix}3 & -1 \\\\5 & 2 \\end{matrix}\\right]\\left[ \\begin{matrix} 2 \\\\ -4 \\end{matrix}\\right] = \\left[ \\begin{matrix} 10 \\\\ 2 \\end{matrix}\\right]$"
      ],
      "text/plain": [
       "<IPython.core.display.Markdown object>"
      ]
     },
     "metadata": {},
     "output_type": "display_data"
    }
   ],
   "source": [
    "def matvec(X, v):\n",
    "    assert dim(X) == dim(v), \"Matrix and vector have mismatching shapes.\"\n",
    "    w = [0] * num_rows(X)\n",
    "    for x_j, v_j in zip(X, v):\n",
    "        w = add(w, scale(x_j, v_j))\n",
    "    return w\n",
    "\n",
    "v = vector(2, -4)\n",
    "w = matvec(X, v)\n",
    "\n",
    "v_latex = latex_vector(v)\n",
    "w_latex = latex_vector(w)\n",
    "display_math('X v = ' + X_latex + v_latex + ' = ' + w_latex)"
   ]
  },
  {
   "cell_type": "markdown",
   "metadata": {
    "nbgrader": {
     "grade": false,
     "locked": true,
     "solution": false
    }
   },
   "source": [
    "**Exercise.** Another way to think about the action of a matrix-vector product is to imagine computing one entry of the output at a time. That is, let $w = Xv$. Write down a formula for $w_i$."
   ]
  },
  {
   "cell_type": "markdown",
   "metadata": {
    "nbgrader": {
     "grade": false,
     "locked": true,
     "solution": false
    }
   },
   "source": [
    "_Answer._ We want the $i$-th entry of $w = Xv$. Let's denote that by $w_i = (Xv)_i$. From the definition of matrix-vector product given above,\n",
    "\n",
    "$$\n",
    "w_i\n",
    "  = (X v)_i\n",
    "  = \\left(x_0 v_0 + x_1 v_1 + \\cdots + x_{n-1} v_{n-1}\\right)_i,\n",
    "$$\n",
    "\n",
    "that is, the $i$-th entry of the right-hand side. So, we need to gather the $i$-th entry of every term on the right-hand side, e.g.,\n",
    "\n",
    "$$\n",
    "w_i\n",
    "  = (X v)_i\n",
    "  = \\left(x_0 v_0 + x_1 v_1 + \\cdots + x_{n-1} v_{n-1}\\right)_i\n",
    "  = x_{i,0} v_0 + x_{i,1} v_1 + \\cdots + x_{i,n-1} v_{n-1},\n",
    "  = \\sum_{j=0}^{n-1} x_{i,j} v_j.\n",
    "$$\n",
    "\n",
    "In other words, the $i$-th entry of the output $w$ is the dot product between the $i$-th row of $X$ and $v$."
   ]
  },
  {
   "cell_type": "markdown",
   "metadata": {
    "nbgrader": {
     "grade": false,
     "locked": true,
     "solution": false
    }
   },
   "source": [
    "**Example: linear systems.** Matrix notation is also a convenient way to write down systems of linear equations. One setting in which we will see such systems is in linear regression.\n",
    "\n",
    "Suppose you want to predict college GPA given a student's high school GPA and SAT score given observed data. Let $i$ be a student with college GPA $c_i$, high school GPA $h_i$, and SAT score $s_i$, and suppose there are $m$ students in total, numbered from 0 to $m-1$. As an initial guess, you might hypothesize a linear relationship among these variables, e.g., $c_i \\approx \\theta_0 h_i + \\theta_1 s_i + \\theta_2$, where $\\theta_0$, $\\theta_1$, and $\\theta_2$ are unknowns. That is, considering all of the data, you believe that\n",
    "\n",
    "$$\\begin{eqnarray}\n",
    "      c_0 & \\approx & \\theta_0 h_0 + \\theta_1 s_0 + \\theta_2 \\\\\n",
    "          & \\vdots & \\\\\n",
    "      c_i & \\approx & \\theta_0 h_i + \\theta_1 s_i + \\theta_2 \\\\\n",
    "          & \\vdots & \\\\\n",
    "  c_{m-1} & \\approx & \\theta_0 h_{m-1} + \\theta_1 s_{m-1} + \\theta_2.\n",
    "\\end{eqnarray}$$\n",
    "\n",
    "Letting\n",
    "\n",
    "$$\n",
    "   c \\equiv \\vecthree{c_0}{\\ldots}{c_{m-1}}, \\quad\n",
    "   X \\equiv \\left[\\begin{matrix} h_0 & s_0 & 1 \\\\ & \\vdots & \\\\ h_{m-1} & s_{m-1} & 1 \\end{matrix}\\right], \\quad\n",
    "   \\mbox{and} \\quad\n",
    "   \\theta \\equiv \\vecthree{\\theta_0}{\\theta_1}{\\theta_2},\n",
    "$$\n",
    "\n",
    "then the system of $m$ equations above can be written more concisely as $c \\approx X \\theta$."
   ]
  },
  {
   "cell_type": "markdown",
   "metadata": {
    "nbgrader": {
     "grade": false,
     "locked": true,
     "solution": false
    }
   },
   "source": [
    "**Definition: matrix transpose.** In the same way that we can transpose a row or column vector to turn it into a column or row vector, we can also transpose all rows or columns of a matrix. This operation is the _matrix transpose_, denoted by $X^T$. That is, if $X$ is an $m$-by-$n$ matrix, then the transpose operation $Y = X^T$ produces an $n$-by-$m$ matrix $Y$ such that $y_{i, j} = x_{j, i}$. For example, if\n",
    "\n",
    "$$X = \\left[\\begin{matrix}\n",
    "  0 & 1 & 2 \\\\\n",
    "  3 & 4 & 5\n",
    "\\end{matrix}\\right],$$\n",
    "\n",
    "then\n",
    "\n",
    "$$Y = X^T = \\left[\\begin{matrix}\n",
    "  0 & 3 \\\\\n",
    "  1 & 4 \\\\\n",
    "  2 & 5\n",
    "\\end{matrix}\\right].$$"
   ]
  },
  {
   "cell_type": "markdown",
   "metadata": {
    "nbgrader": {
     "grade": false,
     "locked": true,
     "solution": false
    }
   },
   "source": [
    "## Example: Markov chains\n",
    "\n",
    "Let's connect linear transformations and matrices to a concept in data analysis, namely, that of a _Markov chain_.\n",
    "\n",
    "> The idea for this example comes from the [LAFF notes](http://ulaff.net)."
   ]
  },
  {
   "cell_type": "markdown",
   "metadata": {
    "nbgrader": {
     "grade": false,
     "locked": true,
     "solution": false
    }
   },
   "source": [
    "**Mobile messaging.** Alice, Bob, and Carol are friends. Suppose we have some information on how likely each person is to send a text message to the other. They live in a closed universe in which they only text one another, and no one else.\n",
    "\n",
    "The data we have appears in the table below, where the rows correspond to the sender and the columns correspond to the receiver. Each $(i, j)$ entry of the table indicates the probability that person $i$ (row $i$) sends a text to person $j$ (column $j$). The rows sum to 1.\n",
    "\n",
    "| Send / Recv | Alice | Bob | Carol |\n",
    "|:-----------:|:-----:|:---:|:-----:|\n",
    "|   _Alice_   |  0.0  | 0.4 |  0.6  |\n",
    "|     _Bob_   |  0.5  | 0.1 |  0.4  |\n",
    "|   _Carol_   |  0.3  | 0.7 |  0.0  |\n",
    "\n",
    "For example, the probability that Bob will send a message to Carol is 0.4 and the probability that Carol will send a message to Alice is 0.3. Let's further suppose that a person only sends a text when he or she has received a text. The likelihood of being a recipient is given by these probabilities.\n",
    "\n",
    "> Bob sometimes sends messages to himself! It's not because he's crazy; rather, he uses texts as a way to send reminders to himself. Also, let's not worry about the existential question of who sends the first message if they are always sending only after receiving."
   ]
  },
  {
   "cell_type": "markdown",
   "metadata": {
    "nbgrader": {
     "grade": false,
     "locked": true,
     "solution": false
    }
   },
   "source": [
    "**An analysis question.** Suppose Bob receives a message. Who is most likely to get the next message? (Answer: Alice.) Now suppose 100 more messages are transmitted after the first one that Bob sent. Who is the most likely recipient?\n",
    "\n",
    "We can answer these questions using matrix-vector products."
   ]
  },
  {
   "cell_type": "markdown",
   "metadata": {
    "nbgrader": {
     "grade": false,
     "locked": true,
     "solution": false
    }
   },
   "source": [
    "Let $X$ be the matrix representing the table above:\n",
    "\n",
    "$$\n",
    "X = \\left[\\begin{matrix}\n",
    "  0 & 0.4 & 0.6 \\\\\n",
    "  0.5 & 0.1 & 0.4 \\\\\n",
    "  0.3 & 0.7 & 0.0\n",
    "\\end{matrix}\\right].\n",
    "$$\n",
    "\n",
    "Next, let $r(k)$ be a vector of dimension 3 whose elements represent the probabilities that Alice, Bob, and Carol are the recipient of the $k$-th message. Since Bob receives the first message,\n",
    "\n",
    "$$r(0) = \\vecthree{0}{1}{0}.  \\quad\\leftarrow\\mbox{Bob is the first recipient}$$"
   ]
  },
  {
   "cell_type": "markdown",
   "metadata": {
    "nbgrader": {
     "grade": false,
     "locked": true,
     "solution": false
    }
   },
   "source": [
    "We'd like to compute $r(1)$ from $r(0)$ and $X$. Essentially, we want it to \"pick out\" Bob's row of the table. Recalling that a matrix-vector product produces linear combinations of the columns, the way to pick out this row is to transpose the matrix and then multiply it by $r(0)$, e.g.,\n",
    "\n",
    "$$r(1) = X^T r(0)\n",
    "  = \\left[\\begin{matrix}\n",
    "      0   & 0.5 & 0.3 \\\\\n",
    "      0.4 & 0.1 & 0.7 \\\\\n",
    "      0.6 & 0.4 & 0.0\n",
    "    \\end{matrix}\\right]\n",
    "    \\vecthree{0}{1}{0}\n",
    "  =   0 \\cdot \\vecthree{0}{0.4}{0.6}\n",
    "    + 1 \\cdot \\vecthree{0.5}{0.1}{0.4}\n",
    "    + 0 \\cdot \\vecthree{0.6}{0.4}{0}\n",
    "  = \\vecthree{0.5}{0.1}{0.4}.\n",
    "    $$"
   ]
  },
  {
   "cell_type": "code",
   "execution_count": 34,
   "metadata": {
    "nbgrader": {
     "grade": false,
     "locked": true,
     "solution": false
    }
   },
   "outputs": [
    {
     "data": {
      "text/markdown": [
       "$X^T r(0) = \\left[\\begin{matrix}0 & 0.5 & 0.3 \\\\0.4 & 0.1 & 0.7 \\\\0.6 & 0.4 & 0 \\end{matrix}\\right] \\left[ \\begin{matrix} 0 \\\\ 1 \\\\ 0 \\end{matrix}\\right] = \\left[ \\begin{matrix} 0.5 \\\\ 0.1 \\\\ 0.4 \\end{matrix}\\right] = r(1).$"
      ],
      "text/plain": [
       "<IPython.core.display.Markdown object>"
      ]
     },
     "metadata": {},
     "output_type": "display_data"
    }
   ],
   "source": [
    "XT = matrix(vector(0, 0.4, 0.6),\n",
    "            vector(0.5, 0.1, 0.4),\n",
    "            vector(0.3, 0.7, 0))\n",
    "r = [vector(0, 1, 0)]\n",
    "r.append(matvec(XT, r[-1]))\n",
    "\n",
    "XT_latex = latex_matrix(XT)\n",
    "r_latex = [latex_vector(ri) for ri in r]\n",
    "display_math(r'X^T r(0) = {} {} = {} = r(1).'.format(XT_latex, r_latex[0], r_latex[1]))"
   ]
  },
  {
   "cell_type": "markdown",
   "metadata": {
    "nbgrader": {
     "grade": false,
     "locked": true,
     "solution": false
    }
   },
   "source": [
    "What about $r(2)$? If we interpret $r(k)$ as a vector of probabilities of who was the last person to have received a message, then we can keep multiplying, i.e., $r(2) = X^T r(1)$. Doing so assumes that the next recipient depends only on the most recent recipient, which is an assumption known as the _Markov property_. We will formalize Markov chains in a different topic, but for now, hopefully you see that this analysis can compute $r(k)$ by $r(k) = X^T r(k-1) = X^T \\cdot X^T \\cdot r(k-2) = (X^T)^k r(0)$."
   ]
  },
  {
   "cell_type": "code",
   "execution_count": 35,
   "metadata": {
    "nbgrader": {
     "grade": false,
     "locked": true,
     "solution": false
    }
   },
   "outputs": [
    {
     "data": {
      "text/markdown": [
       "$r(8) = \\left[ \\begin{matrix} 0.29082461 \\\\ 0.38113284999999997 \\\\ 0.32804254 \\end{matrix}\\right]$"
      ],
      "text/plain": [
       "<IPython.core.display.Markdown object>"
      ]
     },
     "metadata": {},
     "output_type": "display_data"
    },
    {
     "data": {
      "text/markdown": [
       "$r(9) = \\left[ \\begin{matrix} 0.28897918699999997 \\\\ 0.38407290699999996 \\\\ 0.326947906 \\end{matrix}\\right]$"
      ],
      "text/plain": [
       "<IPython.core.display.Markdown object>"
      ]
     },
     "metadata": {},
     "output_type": "display_data"
    },
    {
     "data": {
      "text/markdown": [
       "$r(10) = \\left[ \\begin{matrix} 0.2901208253 \\\\ 0.38286249969999997 \\\\ 0.327016675 \\end{matrix}\\right]$"
      ],
      "text/plain": [
       "<IPython.core.display.Markdown object>"
      ]
     },
     "metadata": {},
     "output_type": "display_data"
    }
   ],
   "source": [
    "r = [vector(0, 1, 0)] # Start over\n",
    "for _ in range(10):\n",
    "    r.append(matvec(XT, r[-1]))\n",
    "\n",
    "# Display the last few iterations:\n",
    "k_left = min(3, len(r))\n",
    "for k in range(len(r)-k_left, len(r)):\n",
    "    display_math(r'r({}) = {}'.format(k, latex_vector(r[k])))"
   ]
  },
  {
   "cell_type": "markdown",
   "metadata": {
    "nbgrader": {
     "grade": false,
     "locked": true,
     "solution": false
    }
   },
   "source": [
    "You should observe that the values appear to be converging and that Bob is a little bit more likely to be the recipient at any given future moment in time."
   ]
  },
  {
   "cell_type": "markdown",
   "metadata": {
    "nbgrader": {
     "grade": false,
     "locked": true,
     "solution": false
    }
   },
   "source": [
    "**Aside: visualizing a linear transformation.** Here is a visual experiment that you can play with to get a rough idea of the effect of a linear transformation.\n",
    "\n",
    "Let $Z$ be a matrix. The following code generates fifty random vectors of unit length (in the two-norm). For each vector $v_k$, it applies the linear transformation represented by $Z$, resulting in a new vector $w_k = Z v_k$. It then draws an arrow corresponding to the _change_ $d_k = w_k - v_k$, placing it at the endpoint of $v_k$ if $v_k$ is placed at the origin. In other words, the arrow shows how different points on the unit circle \"move\" under the transformation $Z$.\n",
    "\n",
    "Try changing $Z$ to see what happens under different linear transformations. (You can uncomment the line that generates a random $Z$.) What do you observe?"
   ]
  },
  {
   "cell_type": "code",
   "execution_count": 36,
   "metadata": {
    "scrolled": true
   },
   "outputs": [
    {
     "data": {
      "text/markdown": [
       "$Z = \\left[\\begin{matrix}3 & -1 \\\\5 & 2 \\end{matrix}\\right]$"
      ],
      "text/plain": [
       "<IPython.core.display.Markdown object>"
      ]
     },
     "metadata": {},
     "output_type": "display_data"
    },
    {
     "data": {
      "image/png": "[encoded data removed]",
      "text/plain": [
       "<matplotlib.figure.Figure at 0x7fd5ec48a940>"
      ]
     },
     "metadata": {},
     "output_type": "display_data"
    }
   ],
   "source": [
    "# Here is the matrix from above:\n",
    "Z = matrix(vector(3, 5), vector(-1, 2))\n",
    "\n",
    "# Or, uncomment this to try a random matrix:\n",
    "#Z = matrix(random_vector(v_min=-5, v_max=5), random_vector(v_min=-5, v_max=5))\n",
    "\n",
    "display_math('Z = ' + latex_matrix(Z))\n",
    "\n",
    "figure(figsize=(6, 6))\n",
    "new_blank_plot(xlim=(-6, 6), ylim=(-6, 6))\n",
    "for _ in range(50):\n",
    "    vk = normalize_vector(random_vector())\n",
    "    wk = matvec(Z, vk)\n",
    "    dk = sub(wk, vk)\n",
    "    draw_vector2d(dk, origin=vk, width=0.05)"
   ]
  },
  {
   "cell_type": "markdown",
   "metadata": {
    "nbgrader": {
     "grade": false,
     "locked": true,
     "solution": false
    }
   },
   "source": [
    "## Matrix-matrix products"
   ]
  },
  {
   "cell_type": "markdown",
   "metadata": {
    "nbgrader": {
     "grade": false,
     "locked": true,
     "solution": false
    }
   },
   "source": [
    "This part of the notebook illustrates what is arguably the most important primitive operation in linear algebra, the _matrix-matrix product_. Let's get there by an example."
   ]
  },
  {
   "cell_type": "markdown",
   "metadata": {
    "nbgrader": {
     "grade": false,
     "locked": true,
     "solution": false
    }
   },
   "source": [
    "**Example: Combined rotations.**  Recall the linear transformation corresponding to rotation,\n",
    "\n",
    "$$\\mathrm{rotate}_{\\theta}(v) \\equiv \\vectwo{v_0 \\cos \\theta - v_1 \\sin \\theta}{v_0 \\sin \\theta + v_1 \\cos \\theta}.$$\n",
    "\n",
    "It can be written as a matrix-vector product,\n",
    "\n",
    "$$\\mathrm{rotate}_\\theta(v)\n",
    "  = \\underbrace{\\left[\\begin{matrix} \\cos\\theta & -\\sin\\theta \\\\ \\sin\\theta & \\cos\\theta \\end{matrix}\\right]}_{\\equiv R(\\theta)} \\vectwo{v_0}{v_1}.$$\n",
    "  \n",
    "Here, we've given the name of the matrix of coefficients $R(\\theta)$."
   ]
  },
  {
   "cell_type": "markdown",
   "metadata": {
    "nbgrader": {
     "grade": false,
     "locked": true,
     "solution": false
    }
   },
   "source": [
    "Now, suppose you rotate a vector first by $\\theta$ and then by a different angle $\\phi$. Applying these rotations \"inside-out,\" that is, first by $\\theta$ and then by $\\phi$ results in the following sequence of products:\n",
    "\n",
    "$$\\begin{eqnarray}\n",
    "  \\mathrm{rotate}_{\\phi}(\\mathrm{rotate}_{\\theta}(v))\n",
    "  & = & R(\\phi) \\cdot (R(\\theta) \\cdot v) \\\\\n",
    "  & = & R(\\phi) \\cdot \\left( \\left[\\begin{matrix} \\cos\\theta & -\\sin\\theta \\\\ \\sin\\theta & \\cos\\theta \\end{matrix}\\right] \\vectwo{v_0}{v_1} \\right) \\\\\n",
    "  & = & R(\\phi) \\cdot \\vectwo{v_0 \\cos \\theta - v_1 \\sin \\theta}{v_0 \\sin \\theta + v_1 \\cos \\theta} \\\\\n",
    "  & = & \\left[\\begin{matrix} \\cos\\phi & -\\sin\\phi \\\\ \\sin\\phi & \\cos\\phi \\end{matrix}\\right]\n",
    "         \\cdot \\vectwo{v_0 \\cos \\theta - v_1 \\sin \\theta}{v_0 \\sin \\theta + v_1 \\cos \\theta} \\\\\n",
    "  & = & \\vectwo{\\cos\\phi \\cdot (v_0 \\cos\\theta - v_1 \\sin\\theta) - \\sin\\phi \\cdot(v_0 \\sin\\theta + v_1 \\cos\\theta)}\n",
    "               {\\sin\\phi \\cdot (v_0 \\cos\\theta - v_1 \\sin\\theta) + \\cos\\phi \\cdot(v_0 \\sin\\theta + v_1 \\cos\\theta)}.\n",
    "\\end{eqnarray}$$"
   ]
  },
  {
   "cell_type": "markdown",
   "metadata": {
    "nbgrader": {
     "grade": false,
     "locked": true,
     "solution": false
    }
   },
   "source": [
    "Rearranging terms,\n",
    "\n",
    "$$\\begin{eqnarray}\n",
    "\\vectwo{(\\cos\\phi \\cos\\theta - \\sin\\phi \\sin\\theta) v_0 + (-\\cos\\phi \\sin\\theta  - \\sin\\phi \\cos\\theta)v_1}\n",
    "       {(\\sin\\phi \\cos\\theta + \\cos\\phi \\sin\\theta) v_0  + (\\cos\\phi \\cos\\theta - \\sin\\phi \\sin\\theta) v_1}\n",
    "& = & \\left[\\begin{matrix}\n",
    "        \\cos\\phi \\cos\\theta - \\sin\\phi \\sin\\theta & -\\cos\\phi \\sin\\theta  - \\sin\\phi \\cos\\theta \\\\\n",
    "        \\sin\\phi \\cos\\theta + \\cos\\phi \\sin\\theta &  \\cos\\phi \\cos\\theta - \\sin\\phi \\sin\\theta\n",
    "      \\end{matrix}\\right]\n",
    "      \\vectwo{v_0}{v_1},\n",
    "\\end{eqnarray}$$\n",
    "\n",
    "in other words, a matrix-vector product where the two rotation matrices, $R(\\phi)$ and $R(\\theta)$ have been combined."
   ]
  },
  {
   "cell_type": "markdown",
   "metadata": {
    "nbgrader": {
     "grade": false,
     "locked": true,
     "solution": false
    }
   },
   "source": [
    "Look carefully at this combined matrix. The first column looks like it could have been constructed from the matrix-vector product,\n",
    "\n",
    "$$\n",
    "  \\vectwo{\\cos\\phi \\cos\\theta - \\sin\\phi \\sin\\theta}\n",
    "         {\\sin\\phi \\cos\\theta + \\cos\\phi \\sin\\theta}\n",
    "  =\n",
    "  \\left[\\begin{matrix}\n",
    "    \\cos\\phi & -\\sin\\phi \\\\\n",
    "    \\sin\\phi &  \\cos\\phi\n",
    "  \\end{matrix}\\right]\n",
    "  \\vectwo{\\cos\\theta}\n",
    "         {\\sin\\theta},\n",
    "$$\n",
    "\n",
    "where the vector is just the first column of $R(\\theta)$."
   ]
  },
  {
   "cell_type": "markdown",
   "metadata": {
    "nbgrader": {
     "grade": false,
     "locked": true,
     "solution": false
    }
   },
   "source": [
    "Similarly, the second column could have been constructed from\n",
    "\n",
    "$$\n",
    "  \\vectwo{-\\cos\\phi \\sin\\theta - \\sin\\phi \\cos\\theta}\n",
    "         {\\cos\\phi \\cos\\theta - \\sin\\phi \\sin\\theta}\n",
    "  =\n",
    "  \\left[\\begin{matrix}\n",
    "    \\cos\\phi & -\\sin\\phi \\\\\n",
    "    \\sin\\phi &  \\cos\\phi\n",
    "  \\end{matrix}\\right]\n",
    "  \\vectwo{-\\sin\\theta}\n",
    "         {\\cos\\theta},\n",
    "$$\n",
    "\n",
    "where the vector is just the second column of $R(\\theta)$. In other words, the combination of $R(\\phi)$ and $R(\\theta)$ is obtained by a sequence of matrix-vector products, where $R(\\phi)$ is multiplied by each column of $R(\\theta)$ to get each corresponding column of their combination. These observations motivate the definition of a _matrix-matrix product_."
   ]
  },
  {
   "cell_type": "markdown",
   "metadata": {
    "nbgrader": {
     "grade": false,
     "locked": true,
     "solution": false
    }
   },
   "source": [
    "**Definition: matrix-matrix product,** or simply, _matrix product_ or _matrix multiply_. Let $A$ be an $m$-by-$k$ matrix and let $B$ be a $k$-by-$n$ matrix. View $B$ by its columns,\n",
    "\n",
    "$$B = \\left[\\begin{matrix} b_0 & b_1 & \\cdots & b_{n-1} \\end{matrix}\\right].$$\n",
    "\n",
    "Then the _matrix-matrix product_, $A B$ (also denoted as $A \\cdot B$) is defined as\n",
    "\n",
    "$$A B \\equiv A \\left[\\begin{matrix} b_0 & b_1 & \\cdots & b_{n-1} \\end{matrix}\\right]\n",
    "           = \\left[\\begin{matrix} A b_0 & A b_1 & \\cdots & A b_{n-1} \\end{matrix}\\right].$$\n",
    "           \n",
    "Note that a matrix-vector product is just the special case in which $n=1$, i.e., $B$ has just one column."
   ]
  },
  {
   "cell_type": "markdown",
   "metadata": {
    "nbgrader": {
     "grade": false,
     "locked": true,
     "solution": false
    }
   },
   "source": [
    "**Exercise.** Implement a Python function, `matmat(A, B)`, that performs a matrix-matrix product according to the preceding definition."
   ]
  },
  {
   "cell_type": "code",
   "execution_count": 37,
   "metadata": {
    "collapsed": true,
    "nbgrader": {
     "grade": false,
     "grade_id": "dummy",
     "locked": false,
     "points": "0",
     "solution": false
    }
   },
   "outputs": [],
   "source": [
    "def matmat(A, B):\n",
    "    m, k_A = num_rows(A), num_cols(A)\n",
    "    k_B, n = num_rows(B), num_cols(B)\n",
    "    assert k_A == k_B, \"Inner-dimensions of `A` and `B` do not match.\"\n",
    "    \n",
    "    C_cols = []\n",
    "    for bi in B:\n",
    "        C_cols.append(matvec(A, bi))\n",
    "    C = matrix(*C_cols)\n",
    "    return C"
   ]
  },
  {
   "cell_type": "code",
   "execution_count": 38,
   "metadata": {
    "nbgrader": {
     "grade": true,
     "grade_id": "dummy",
     "locked": true,
     "points": "0",
     "solution": false
    }
   },
   "outputs": [
    {
     "data": {
      "text/markdown": [
       "$\\left[\\begin{matrix}1 & 4 & 7 \\\\2 & 5 & 8 \\\\3 & 6 & 9 \\end{matrix}\\right] \\cdot \\left[\\begin{matrix}-1 & 1 & 0.5 \\\\-1 & 1 & 0.25 \\\\-1 & 1 & 0.125 \\end{matrix}\\right] = \\left[\\begin{matrix}-12 & 12 & 2.375 \\\\-15 & 15 & 3.25 \\\\-18 & 18 & 4.125 \\end{matrix}\\right]$"
      ],
      "text/plain": [
       "<IPython.core.display.Markdown object>"
      ]
     },
     "metadata": {},
     "output_type": "display_data"
    }
   ],
   "source": [
    "A = matrix(vector(1, 2, 3), vector(4, 5, 6), vector(7, 8, 9))\n",
    "B = matrix(vector(-1, -1, -1), vector(1, 1, 1), vector(0.5, 0.25, 0.125))\n",
    "C = matmat(A, B)\n",
    "\n",
    "A_latex = latex_matrix(A)\n",
    "B_latex = latex_matrix(B)\n",
    "C_latex = latex_matrix(C)\n",
    "display_math(r'{} \\cdot {} = {}'.format(A_latex, B_latex, C_latex))"
   ]
  },
  {
   "cell_type": "markdown",
   "metadata": {
    "nbgrader": {
     "grade": false,
     "locked": true,
     "solution": false
    }
   },
   "source": [
    "**Exercise.** Let $C = AB$, where $A \\in \\mathbb{R}^{m \\times k}$ and $B \\in \\mathbb{R}^{k \\times n}$, so that $C \\in \\mathbb{R}^{m \\times n}$. Show that every output element, $c_{i,j}$, may be computed by the scalar formula,\n",
    "\n",
    "$$c_{i,j} = \\sum_{s=0}^{k-1} a_{i,s} \\cdot b_{s,j},$$\n",
    "\n",
    "that is, as the dot product between row $i$ of $A$ and column $j$ of $B$. If you learned how to multiply matrices in high school or an introductory college class, you most likely learned this formula. We will sometimes refer to this way of computing a matrix multiply as the _dot product method_."
   ]
  },
  {
   "cell_type": "markdown",
   "metadata": {
    "nbgrader": {
     "grade": false,
     "locked": true,
     "solution": false
    }
   },
   "source": [
    "**Exercise.** Let $C = AB^T$, where $A \\in \\mathbb{R}^{m \\times k}$ and $B \\in \\mathbb{R}^{n \\times k}$, so that $B^T \\in \\mathbb{R}^{k \\times n}$ and $C \\in \\mathbb{R}^{m \\times n}$. Show that,\n",
    "\n",
    "$$C = \\sum_{s=0}^{k-1} a_s \\cdot b_s^T,$$\n",
    "\n",
    "where $a_s$ and $b_s$ denote the $s$-th columns of $A$ and $B$, respectively."
   ]
  },
  {
   "cell_type": "markdown",
   "metadata": {
    "nbgrader": {
     "grade": false,
     "locked": true,
     "solution": false
    }
   },
   "source": [
    "> **Important note!** The previous two exercises are two important facts about matrix products, namely, that there are different ways to think about how to compute it. We will frequently go back-and-forth between different methods, so it is best if you convince yourself that these formulas are right (_or find the bugs in them if they are not right_) and memorize the (_correct_) relations."
   ]
  },
  {
   "cell_type": "markdown",
   "metadata": {},
   "source": [
    "**Fin!** This is the end of this notebook. At this point, you should read the Da Kuang's notes on linear algebra (see link on edX under \"Topic 3.\")"
   ]
  },
  {
   "cell_type": "code",
   "execution_count": null,
   "metadata": {
    "collapsed": true
   },
   "outputs": [],
   "source": []
  },
  {
   "cell_type": "code",
   "execution_count": null,
   "metadata": {
    "collapsed": true
   },
   "outputs": [],
   "source": []
  }
 ],
 "metadata": {
  "kernelspec": {
   "display_name": "Python 3.6 [deprecated]",
   "language": "python",
   "name": "python36"
  },
  "language_info": {
   "codemirror_mode": {
    "name": "ipython",
    "version": 3
   },
   "file_extension": ".py",
   "mimetype": "text/x-python",
   "name": "python",
   "nbconvert_exporter": "python",
   "pygments_lexer": "ipython3",
   "version": "3.6.4"
  }
 },
 "nbformat": 4,
 "nbformat_minor": 2
}
